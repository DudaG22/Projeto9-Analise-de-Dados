{
 "cells": [
  {
   "cell_type": "code",
   "execution_count": 28,
   "metadata": {},
   "outputs": [],
   "source": [
    "import json\n",
    "import pymongo \n",
    "import numpy as np\n",
    "import pandas as pd\n",
    "import matplotlib.pyplot as plt\n",
    "import seaborn as sns\n",
    "import warnings\n",
    "warnings.filterwarnings('ignore')"
   ]
  },
  {
   "cell_type": "code",
   "execution_count": 29,
   "metadata": {},
   "outputs": [],
   "source": [
    "client = pymongo.MongoClient(\"mongodb://localhost:27017/\")"
   ]
  },
  {
   "cell_type": "code",
   "execution_count": 30,
   "metadata": {},
   "outputs": [
    {
     "data": {
      "text/plain": [
       "MongoClient(host=['localhost:27017'], document_class=dict, tz_aware=False, connect=True)"
      ]
     },
     "execution_count": 30,
     "metadata": {},
     "output_type": "execute_result"
    }
   ],
   "source": [
    "client"
   ]
  },
  {
   "cell_type": "code",
   "execution_count": 31,
   "metadata": {},
   "outputs": [],
   "source": [
    "datalake = client[\"datalake\"]"
   ]
  },
  {
   "cell_type": "code",
   "execution_count": 32,
   "metadata": {},
   "outputs": [
    {
     "data": {
      "text/plain": [
       "Database(MongoClient(host=['localhost:27017'], document_class=dict, tz_aware=False, connect=True), 'datalake')"
      ]
     },
     "execution_count": 32,
     "metadata": {},
     "output_type": "execute_result"
    }
   ],
   "source": [
    "datalake"
   ]
  },
  {
   "cell_type": "code",
   "execution_count": 33,
   "metadata": {},
   "outputs": [],
   "source": [
    "datalake.posts.drop()"
   ]
  },
  {
   "cell_type": "code",
   "execution_count": 34,
   "metadata": {},
   "outputs": [],
   "source": [
    "# Cria a coleção chamada posts\n",
    "posts = datalake[\"posts\"]"
   ]
  },
  {
   "cell_type": "code",
   "execution_count": 35,
   "metadata": {},
   "outputs": [],
   "source": [
    "with open('/Users/duda/PythonDSA/Duda/10-Projeto9/2-Projeto9/dados/dataset.json') as file:\n",
    "    file_data = json.load(file)"
   ]
  },
  {
   "cell_type": "code",
   "execution_count": 36,
   "metadata": {},
   "outputs": [
    {
     "data": {
      "text/plain": [
       "[{'status': 'public',\n",
       "  'creationDate': '2017-07-17T20:05:49Z',\n",
       "  'allowComments': True,\n",
       "  'title': 'ligula nec sem duis aliquam',\n",
       "  'description': 'in felis eu sapien cursus vestibulum proin eu mi nulla ac enim in tempor turpis nec euismod scelerisque quam turpis adipiscing lorem vitae mattis nibh ligula nec sem duis aliquam convallis nunc proin at turpis a pede posuere nonummy integer non velit donec diam neque vestibulum eget vulputate ut ultrices vel augue vestibulum ante ipsum primis in faucibus orci luctus et ultrices posuere cubilia curae donec pharetra magna vestibulum aliquet ultrices erat tortor sollicitudin mi sit amet lobortis sapien sapien non mi integer ac neque duis bibendum morbi non',\n",
       "  'tags': 1,\n",
       "  'Category': 'lifestyle',\n",
       "  'filteredPicture': False},\n",
       " {'status': 'private',\n",
       "  'creationDate': '2019-01-19T15:45:57Z',\n",
       "  'allowComments': False,\n",
       "  'title': 'mus vivamus vestibulum sagittis sapien cum',\n",
       "  'description': 'nec nisi volutpat eleifend donec ut dolor morbi vel lectus in quam fringilla rhoncus mauris enim leo rhoncus sed vestibulum sit amet cursus id turpis integer aliquet massa id lobortis convallis tortor risus dapibus augue vel accumsan tellus',\n",
       "  'tags': 0,\n",
       "  'Category': 'lifestyle',\n",
       "  'filteredPicture': False},\n",
       " {'status': 'private',\n",
       "  'creationDate': '2019-03-22T17:18:15Z',\n",
       "  'allowComments': True,\n",
       "  'title': 'vel nulla eget eros elementum',\n",
       "  'description': 'quis orci nullam molestie nibh in lectus pellentesque at nulla suspendisse potenti cras in purus eu magna vulputate luctus cum sociis',\n",
       "  'tags': 6,\n",
       "  'Category': 'politics',\n",
       "  'filteredPicture': True}]"
      ]
     },
     "execution_count": 36,
     "metadata": {},
     "output_type": "execute_result"
    }
   ],
   "source": [
    "file_data[:3]"
   ]
  },
  {
   "cell_type": "code",
   "execution_count": 37,
   "metadata": {},
   "outputs": [
    {
     "data": {
      "text/plain": [
       "InsertManyResult([ObjectId('667dfa267f51f7dcd7dc1cf4'), ObjectId('667dfa267f51f7dcd7dc1cf5'), ObjectId('667dfa267f51f7dcd7dc1cf6'), ObjectId('667dfa267f51f7dcd7dc1cf7'), ObjectId('667dfa267f51f7dcd7dc1cf8'), ObjectId('667dfa267f51f7dcd7dc1cf9'), ObjectId('667dfa267f51f7dcd7dc1cfa'), ObjectId('667dfa267f51f7dcd7dc1cfb'), ObjectId('667dfa267f51f7dcd7dc1cfc'), ObjectId('667dfa267f51f7dcd7dc1cfd'), ObjectId('667dfa267f51f7dcd7dc1cfe'), ObjectId('667dfa267f51f7dcd7dc1cff'), ObjectId('667dfa267f51f7dcd7dc1d00'), ObjectId('667dfa267f51f7dcd7dc1d01'), ObjectId('667dfa267f51f7dcd7dc1d02'), ObjectId('667dfa267f51f7dcd7dc1d03'), ObjectId('667dfa267f51f7dcd7dc1d04'), ObjectId('667dfa267f51f7dcd7dc1d05'), ObjectId('667dfa267f51f7dcd7dc1d06'), ObjectId('667dfa267f51f7dcd7dc1d07'), ObjectId('667dfa267f51f7dcd7dc1d08'), ObjectId('667dfa267f51f7dcd7dc1d09'), ObjectId('667dfa267f51f7dcd7dc1d0a'), ObjectId('667dfa267f51f7dcd7dc1d0b'), ObjectId('667dfa267f51f7dcd7dc1d0c'), ObjectId('667dfa267f51f7dcd7dc1d0d'), ObjectId('667dfa267f51f7dcd7dc1d0e'), ObjectId('667dfa267f51f7dcd7dc1d0f'), ObjectId('667dfa267f51f7dcd7dc1d10'), ObjectId('667dfa267f51f7dcd7dc1d11'), ObjectId('667dfa267f51f7dcd7dc1d12'), ObjectId('667dfa267f51f7dcd7dc1d13'), ObjectId('667dfa267f51f7dcd7dc1d14'), ObjectId('667dfa267f51f7dcd7dc1d15'), ObjectId('667dfa267f51f7dcd7dc1d16'), ObjectId('667dfa267f51f7dcd7dc1d17'), ObjectId('667dfa267f51f7dcd7dc1d18'), ObjectId('667dfa267f51f7dcd7dc1d19'), ObjectId('667dfa267f51f7dcd7dc1d1a'), ObjectId('667dfa267f51f7dcd7dc1d1b'), ObjectId('667dfa267f51f7dcd7dc1d1c'), ObjectId('667dfa267f51f7dcd7dc1d1d'), ObjectId('667dfa267f51f7dcd7dc1d1e'), ObjectId('667dfa267f51f7dcd7dc1d1f'), ObjectId('667dfa267f51f7dcd7dc1d20'), ObjectId('667dfa267f51f7dcd7dc1d21'), ObjectId('667dfa267f51f7dcd7dc1d22'), ObjectId('667dfa267f51f7dcd7dc1d23'), ObjectId('667dfa267f51f7dcd7dc1d24'), ObjectId('667dfa267f51f7dcd7dc1d25'), ObjectId('667dfa267f51f7dcd7dc1d26'), ObjectId('667dfa267f51f7dcd7dc1d27'), ObjectId('667dfa267f51f7dcd7dc1d28'), ObjectId('667dfa267f51f7dcd7dc1d29'), ObjectId('667dfa267f51f7dcd7dc1d2a'), ObjectId('667dfa267f51f7dcd7dc1d2b'), ObjectId('667dfa267f51f7dcd7dc1d2c'), ObjectId('667dfa267f51f7dcd7dc1d2d'), ObjectId('667dfa267f51f7dcd7dc1d2e'), ObjectId('667dfa267f51f7dcd7dc1d2f'), ObjectId('667dfa267f51f7dcd7dc1d30'), ObjectId('667dfa267f51f7dcd7dc1d31'), ObjectId('667dfa267f51f7dcd7dc1d32'), ObjectId('667dfa267f51f7dcd7dc1d33'), ObjectId('667dfa267f51f7dcd7dc1d34'), ObjectId('667dfa267f51f7dcd7dc1d35'), ObjectId('667dfa267f51f7dcd7dc1d36'), ObjectId('667dfa267f51f7dcd7dc1d37'), ObjectId('667dfa267f51f7dcd7dc1d38'), ObjectId('667dfa267f51f7dcd7dc1d39'), ObjectId('667dfa267f51f7dcd7dc1d3a'), ObjectId('667dfa267f51f7dcd7dc1d3b'), ObjectId('667dfa267f51f7dcd7dc1d3c'), ObjectId('667dfa267f51f7dcd7dc1d3d'), ObjectId('667dfa267f51f7dcd7dc1d3e'), ObjectId('667dfa267f51f7dcd7dc1d3f'), ObjectId('667dfa267f51f7dcd7dc1d40'), ObjectId('667dfa267f51f7dcd7dc1d41'), ObjectId('667dfa267f51f7dcd7dc1d42'), ObjectId('667dfa267f51f7dcd7dc1d43'), ObjectId('667dfa267f51f7dcd7dc1d44'), ObjectId('667dfa267f51f7dcd7dc1d45'), ObjectId('667dfa267f51f7dcd7dc1d46'), ObjectId('667dfa267f51f7dcd7dc1d47'), ObjectId('667dfa267f51f7dcd7dc1d48'), ObjectId('667dfa267f51f7dcd7dc1d49'), ObjectId('667dfa267f51f7dcd7dc1d4a'), ObjectId('667dfa267f51f7dcd7dc1d4b'), ObjectId('667dfa267f51f7dcd7dc1d4c'), ObjectId('667dfa267f51f7dcd7dc1d4d'), ObjectId('667dfa267f51f7dcd7dc1d4e'), ObjectId('667dfa267f51f7dcd7dc1d4f'), ObjectId('667dfa267f51f7dcd7dc1d50'), ObjectId('667dfa267f51f7dcd7dc1d51'), ObjectId('667dfa267f51f7dcd7dc1d52'), ObjectId('667dfa267f51f7dcd7dc1d53'), ObjectId('667dfa267f51f7dcd7dc1d54'), ObjectId('667dfa267f51f7dcd7dc1d55'), ObjectId('667dfa267f51f7dcd7dc1d56'), ObjectId('667dfa267f51f7dcd7dc1d57'), ObjectId('667dfa267f51f7dcd7dc1d58'), ObjectId('667dfa267f51f7dcd7dc1d59'), ObjectId('667dfa267f51f7dcd7dc1d5a'), ObjectId('667dfa267f51f7dcd7dc1d5b'), ObjectId('667dfa267f51f7dcd7dc1d5c'), ObjectId('667dfa267f51f7dcd7dc1d5d'), ObjectId('667dfa267f51f7dcd7dc1d5e'), ObjectId('667dfa267f51f7dcd7dc1d5f'), ObjectId('667dfa267f51f7dcd7dc1d60'), ObjectId('667dfa267f51f7dcd7dc1d61'), ObjectId('667dfa267f51f7dcd7dc1d62'), ObjectId('667dfa267f51f7dcd7dc1d63'), ObjectId('667dfa267f51f7dcd7dc1d64'), ObjectId('667dfa267f51f7dcd7dc1d65'), ObjectId('667dfa267f51f7dcd7dc1d66'), ObjectId('667dfa267f51f7dcd7dc1d67'), ObjectId('667dfa267f51f7dcd7dc1d68'), ObjectId('667dfa267f51f7dcd7dc1d69'), ObjectId('667dfa267f51f7dcd7dc1d6a'), ObjectId('667dfa267f51f7dcd7dc1d6b'), ObjectId('667dfa267f51f7dcd7dc1d6c'), ObjectId('667dfa267f51f7dcd7dc1d6d'), ObjectId('667dfa267f51f7dcd7dc1d6e'), ObjectId('667dfa267f51f7dcd7dc1d6f'), ObjectId('667dfa267f51f7dcd7dc1d70'), ObjectId('667dfa267f51f7dcd7dc1d71'), ObjectId('667dfa267f51f7dcd7dc1d72'), ObjectId('667dfa267f51f7dcd7dc1d73'), ObjectId('667dfa267f51f7dcd7dc1d74'), ObjectId('667dfa267f51f7dcd7dc1d75'), ObjectId('667dfa267f51f7dcd7dc1d76'), ObjectId('667dfa267f51f7dcd7dc1d77'), ObjectId('667dfa267f51f7dcd7dc1d78'), ObjectId('667dfa267f51f7dcd7dc1d79'), ObjectId('667dfa267f51f7dcd7dc1d7a'), ObjectId('667dfa267f51f7dcd7dc1d7b'), ObjectId('667dfa267f51f7dcd7dc1d7c'), ObjectId('667dfa267f51f7dcd7dc1d7d'), ObjectId('667dfa267f51f7dcd7dc1d7e'), ObjectId('667dfa267f51f7dcd7dc1d7f'), ObjectId('667dfa267f51f7dcd7dc1d80'), ObjectId('667dfa267f51f7dcd7dc1d81'), ObjectId('667dfa267f51f7dcd7dc1d82'), ObjectId('667dfa267f51f7dcd7dc1d83'), ObjectId('667dfa267f51f7dcd7dc1d84'), ObjectId('667dfa267f51f7dcd7dc1d85'), ObjectId('667dfa267f51f7dcd7dc1d86'), ObjectId('667dfa267f51f7dcd7dc1d87'), ObjectId('667dfa267f51f7dcd7dc1d88'), ObjectId('667dfa267f51f7dcd7dc1d89'), ObjectId('667dfa267f51f7dcd7dc1d8a'), ObjectId('667dfa267f51f7dcd7dc1d8b'), ObjectId('667dfa267f51f7dcd7dc1d8c'), ObjectId('667dfa267f51f7dcd7dc1d8d'), ObjectId('667dfa267f51f7dcd7dc1d8e'), ObjectId('667dfa267f51f7dcd7dc1d8f'), ObjectId('667dfa267f51f7dcd7dc1d90'), ObjectId('667dfa267f51f7dcd7dc1d91'), ObjectId('667dfa267f51f7dcd7dc1d92'), ObjectId('667dfa267f51f7dcd7dc1d93'), ObjectId('667dfa267f51f7dcd7dc1d94'), ObjectId('667dfa267f51f7dcd7dc1d95'), ObjectId('667dfa267f51f7dcd7dc1d96'), ObjectId('667dfa267f51f7dcd7dc1d97'), ObjectId('667dfa267f51f7dcd7dc1d98'), ObjectId('667dfa267f51f7dcd7dc1d99'), ObjectId('667dfa267f51f7dcd7dc1d9a'), ObjectId('667dfa267f51f7dcd7dc1d9b'), ObjectId('667dfa267f51f7dcd7dc1d9c'), ObjectId('667dfa267f51f7dcd7dc1d9d'), ObjectId('667dfa267f51f7dcd7dc1d9e'), ObjectId('667dfa267f51f7dcd7dc1d9f'), ObjectId('667dfa267f51f7dcd7dc1da0'), ObjectId('667dfa267f51f7dcd7dc1da1'), ObjectId('667dfa267f51f7dcd7dc1da2'), ObjectId('667dfa267f51f7dcd7dc1da3'), ObjectId('667dfa267f51f7dcd7dc1da4'), ObjectId('667dfa267f51f7dcd7dc1da5'), ObjectId('667dfa267f51f7dcd7dc1da6'), ObjectId('667dfa267f51f7dcd7dc1da7'), ObjectId('667dfa267f51f7dcd7dc1da8'), ObjectId('667dfa267f51f7dcd7dc1da9'), ObjectId('667dfa267f51f7dcd7dc1daa'), ObjectId('667dfa267f51f7dcd7dc1dab'), ObjectId('667dfa267f51f7dcd7dc1dac'), ObjectId('667dfa267f51f7dcd7dc1dad'), ObjectId('667dfa267f51f7dcd7dc1dae'), ObjectId('667dfa267f51f7dcd7dc1daf'), ObjectId('667dfa267f51f7dcd7dc1db0'), ObjectId('667dfa267f51f7dcd7dc1db1'), ObjectId('667dfa267f51f7dcd7dc1db2'), ObjectId('667dfa267f51f7dcd7dc1db3'), ObjectId('667dfa267f51f7dcd7dc1db4'), ObjectId('667dfa267f51f7dcd7dc1db5'), ObjectId('667dfa267f51f7dcd7dc1db6'), ObjectId('667dfa267f51f7dcd7dc1db7'), ObjectId('667dfa267f51f7dcd7dc1db8'), ObjectId('667dfa267f51f7dcd7dc1db9'), ObjectId('667dfa267f51f7dcd7dc1dba'), ObjectId('667dfa267f51f7dcd7dc1dbb'), ObjectId('667dfa267f51f7dcd7dc1dbc'), ObjectId('667dfa267f51f7dcd7dc1dbd'), ObjectId('667dfa267f51f7dcd7dc1dbe'), ObjectId('667dfa267f51f7dcd7dc1dbf'), ObjectId('667dfa267f51f7dcd7dc1dc0'), ObjectId('667dfa267f51f7dcd7dc1dc1'), ObjectId('667dfa267f51f7dcd7dc1dc2'), ObjectId('667dfa267f51f7dcd7dc1dc3'), ObjectId('667dfa267f51f7dcd7dc1dc4'), ObjectId('667dfa267f51f7dcd7dc1dc5'), ObjectId('667dfa267f51f7dcd7dc1dc6'), ObjectId('667dfa267f51f7dcd7dc1dc7'), ObjectId('667dfa267f51f7dcd7dc1dc8'), ObjectId('667dfa267f51f7dcd7dc1dc9'), ObjectId('667dfa267f51f7dcd7dc1dca'), ObjectId('667dfa267f51f7dcd7dc1dcb'), ObjectId('667dfa267f51f7dcd7dc1dcc'), ObjectId('667dfa267f51f7dcd7dc1dcd'), ObjectId('667dfa267f51f7dcd7dc1dce'), ObjectId('667dfa267f51f7dcd7dc1dcf'), ObjectId('667dfa267f51f7dcd7dc1dd0'), ObjectId('667dfa267f51f7dcd7dc1dd1'), ObjectId('667dfa267f51f7dcd7dc1dd2'), ObjectId('667dfa267f51f7dcd7dc1dd3'), ObjectId('667dfa267f51f7dcd7dc1dd4'), ObjectId('667dfa267f51f7dcd7dc1dd5'), ObjectId('667dfa267f51f7dcd7dc1dd6'), ObjectId('667dfa267f51f7dcd7dc1dd7'), ObjectId('667dfa267f51f7dcd7dc1dd8'), ObjectId('667dfa267f51f7dcd7dc1dd9'), ObjectId('667dfa267f51f7dcd7dc1dda'), ObjectId('667dfa267f51f7dcd7dc1ddb'), ObjectId('667dfa267f51f7dcd7dc1ddc'), ObjectId('667dfa267f51f7dcd7dc1ddd'), ObjectId('667dfa267f51f7dcd7dc1dde'), ObjectId('667dfa267f51f7dcd7dc1ddf'), ObjectId('667dfa267f51f7dcd7dc1de0'), ObjectId('667dfa267f51f7dcd7dc1de1'), ObjectId('667dfa267f51f7dcd7dc1de2'), ObjectId('667dfa267f51f7dcd7dc1de3'), ObjectId('667dfa267f51f7dcd7dc1de4'), ObjectId('667dfa267f51f7dcd7dc1de5'), ObjectId('667dfa267f51f7dcd7dc1de6'), ObjectId('667dfa267f51f7dcd7dc1de7'), ObjectId('667dfa267f51f7dcd7dc1de8'), ObjectId('667dfa267f51f7dcd7dc1de9'), ObjectId('667dfa267f51f7dcd7dc1dea'), ObjectId('667dfa267f51f7dcd7dc1deb'), ObjectId('667dfa267f51f7dcd7dc1dec'), ObjectId('667dfa267f51f7dcd7dc1ded'), ObjectId('667dfa267f51f7dcd7dc1dee'), ObjectId('667dfa267f51f7dcd7dc1def'), ObjectId('667dfa267f51f7dcd7dc1df0'), ObjectId('667dfa267f51f7dcd7dc1df1'), ObjectId('667dfa267f51f7dcd7dc1df2'), ObjectId('667dfa267f51f7dcd7dc1df3'), ObjectId('667dfa267f51f7dcd7dc1df4'), ObjectId('667dfa267f51f7dcd7dc1df5'), ObjectId('667dfa267f51f7dcd7dc1df6'), ObjectId('667dfa267f51f7dcd7dc1df7'), ObjectId('667dfa267f51f7dcd7dc1df8'), ObjectId('667dfa267f51f7dcd7dc1df9'), ObjectId('667dfa267f51f7dcd7dc1dfa'), ObjectId('667dfa267f51f7dcd7dc1dfb'), ObjectId('667dfa267f51f7dcd7dc1dfc'), ObjectId('667dfa267f51f7dcd7dc1dfd'), ObjectId('667dfa267f51f7dcd7dc1dfe'), ObjectId('667dfa267f51f7dcd7dc1dff'), ObjectId('667dfa267f51f7dcd7dc1e00'), ObjectId('667dfa267f51f7dcd7dc1e01'), ObjectId('667dfa267f51f7dcd7dc1e02'), ObjectId('667dfa267f51f7dcd7dc1e03'), ObjectId('667dfa267f51f7dcd7dc1e04'), ObjectId('667dfa267f51f7dcd7dc1e05'), ObjectId('667dfa267f51f7dcd7dc1e06'), ObjectId('667dfa267f51f7dcd7dc1e07'), ObjectId('667dfa267f51f7dcd7dc1e08'), ObjectId('667dfa267f51f7dcd7dc1e09'), ObjectId('667dfa267f51f7dcd7dc1e0a'), ObjectId('667dfa267f51f7dcd7dc1e0b'), ObjectId('667dfa267f51f7dcd7dc1e0c'), ObjectId('667dfa267f51f7dcd7dc1e0d'), ObjectId('667dfa267f51f7dcd7dc1e0e'), ObjectId('667dfa267f51f7dcd7dc1e0f'), ObjectId('667dfa267f51f7dcd7dc1e10'), ObjectId('667dfa267f51f7dcd7dc1e11'), ObjectId('667dfa267f51f7dcd7dc1e12'), ObjectId('667dfa267f51f7dcd7dc1e13'), ObjectId('667dfa267f51f7dcd7dc1e14'), ObjectId('667dfa267f51f7dcd7dc1e15'), ObjectId('667dfa267f51f7dcd7dc1e16'), ObjectId('667dfa267f51f7dcd7dc1e17'), ObjectId('667dfa267f51f7dcd7dc1e18'), ObjectId('667dfa267f51f7dcd7dc1e19'), ObjectId('667dfa267f51f7dcd7dc1e1a'), ObjectId('667dfa267f51f7dcd7dc1e1b'), ObjectId('667dfa267f51f7dcd7dc1e1c'), ObjectId('667dfa267f51f7dcd7dc1e1d'), ObjectId('667dfa267f51f7dcd7dc1e1e'), ObjectId('667dfa267f51f7dcd7dc1e1f'), ObjectId('667dfa267f51f7dcd7dc1e20'), ObjectId('667dfa267f51f7dcd7dc1e21'), ObjectId('667dfa267f51f7dcd7dc1e22'), ObjectId('667dfa267f51f7dcd7dc1e23'), ObjectId('667dfa267f51f7dcd7dc1e24'), ObjectId('667dfa267f51f7dcd7dc1e25'), ObjectId('667dfa267f51f7dcd7dc1e26'), ObjectId('667dfa267f51f7dcd7dc1e27'), ObjectId('667dfa267f51f7dcd7dc1e28'), ObjectId('667dfa267f51f7dcd7dc1e29'), ObjectId('667dfa267f51f7dcd7dc1e2a'), ObjectId('667dfa267f51f7dcd7dc1e2b'), ObjectId('667dfa267f51f7dcd7dc1e2c'), ObjectId('667dfa267f51f7dcd7dc1e2d'), ObjectId('667dfa267f51f7dcd7dc1e2e'), ObjectId('667dfa267f51f7dcd7dc1e2f'), ObjectId('667dfa267f51f7dcd7dc1e30'), ObjectId('667dfa267f51f7dcd7dc1e31'), ObjectId('667dfa267f51f7dcd7dc1e32'), ObjectId('667dfa267f51f7dcd7dc1e33'), ObjectId('667dfa267f51f7dcd7dc1e34'), ObjectId('667dfa267f51f7dcd7dc1e35'), ObjectId('667dfa267f51f7dcd7dc1e36'), ObjectId('667dfa267f51f7dcd7dc1e37'), ObjectId('667dfa267f51f7dcd7dc1e38'), ObjectId('667dfa267f51f7dcd7dc1e39'), ObjectId('667dfa267f51f7dcd7dc1e3a'), ObjectId('667dfa267f51f7dcd7dc1e3b'), ObjectId('667dfa267f51f7dcd7dc1e3c'), ObjectId('667dfa267f51f7dcd7dc1e3d'), ObjectId('667dfa267f51f7dcd7dc1e3e'), ObjectId('667dfa267f51f7dcd7dc1e3f'), ObjectId('667dfa267f51f7dcd7dc1e40'), ObjectId('667dfa267f51f7dcd7dc1e41'), ObjectId('667dfa267f51f7dcd7dc1e42'), ObjectId('667dfa267f51f7dcd7dc1e43'), ObjectId('667dfa267f51f7dcd7dc1e44'), ObjectId('667dfa267f51f7dcd7dc1e45'), ObjectId('667dfa267f51f7dcd7dc1e46'), ObjectId('667dfa267f51f7dcd7dc1e47'), ObjectId('667dfa267f51f7dcd7dc1e48'), ObjectId('667dfa267f51f7dcd7dc1e49'), ObjectId('667dfa267f51f7dcd7dc1e4a'), ObjectId('667dfa267f51f7dcd7dc1e4b'), ObjectId('667dfa267f51f7dcd7dc1e4c'), ObjectId('667dfa267f51f7dcd7dc1e4d'), ObjectId('667dfa267f51f7dcd7dc1e4e'), ObjectId('667dfa267f51f7dcd7dc1e4f'), ObjectId('667dfa267f51f7dcd7dc1e50'), ObjectId('667dfa267f51f7dcd7dc1e51'), ObjectId('667dfa267f51f7dcd7dc1e52'), ObjectId('667dfa267f51f7dcd7dc1e53'), ObjectId('667dfa267f51f7dcd7dc1e54'), ObjectId('667dfa267f51f7dcd7dc1e55'), ObjectId('667dfa267f51f7dcd7dc1e56'), ObjectId('667dfa267f51f7dcd7dc1e57'), ObjectId('667dfa267f51f7dcd7dc1e58'), ObjectId('667dfa267f51f7dcd7dc1e59'), ObjectId('667dfa267f51f7dcd7dc1e5a'), ObjectId('667dfa267f51f7dcd7dc1e5b'), ObjectId('667dfa267f51f7dcd7dc1e5c'), ObjectId('667dfa267f51f7dcd7dc1e5d'), ObjectId('667dfa267f51f7dcd7dc1e5e'), ObjectId('667dfa267f51f7dcd7dc1e5f'), ObjectId('667dfa267f51f7dcd7dc1e60'), ObjectId('667dfa267f51f7dcd7dc1e61'), ObjectId('667dfa267f51f7dcd7dc1e62'), ObjectId('667dfa267f51f7dcd7dc1e63'), ObjectId('667dfa267f51f7dcd7dc1e64'), ObjectId('667dfa267f51f7dcd7dc1e65'), ObjectId('667dfa267f51f7dcd7dc1e66'), ObjectId('667dfa267f51f7dcd7dc1e67'), ObjectId('667dfa267f51f7dcd7dc1e68'), ObjectId('667dfa267f51f7dcd7dc1e69'), ObjectId('667dfa267f51f7dcd7dc1e6a'), ObjectId('667dfa267f51f7dcd7dc1e6b'), ObjectId('667dfa267f51f7dcd7dc1e6c'), ObjectId('667dfa267f51f7dcd7dc1e6d'), ObjectId('667dfa267f51f7dcd7dc1e6e'), ObjectId('667dfa267f51f7dcd7dc1e6f'), ObjectId('667dfa267f51f7dcd7dc1e70'), ObjectId('667dfa267f51f7dcd7dc1e71'), ObjectId('667dfa267f51f7dcd7dc1e72'), ObjectId('667dfa267f51f7dcd7dc1e73'), ObjectId('667dfa267f51f7dcd7dc1e74'), ObjectId('667dfa267f51f7dcd7dc1e75'), ObjectId('667dfa267f51f7dcd7dc1e76'), ObjectId('667dfa267f51f7dcd7dc1e77'), ObjectId('667dfa267f51f7dcd7dc1e78'), ObjectId('667dfa267f51f7dcd7dc1e79'), ObjectId('667dfa267f51f7dcd7dc1e7a'), ObjectId('667dfa267f51f7dcd7dc1e7b'), ObjectId('667dfa267f51f7dcd7dc1e7c'), ObjectId('667dfa267f51f7dcd7dc1e7d'), ObjectId('667dfa267f51f7dcd7dc1e7e'), ObjectId('667dfa267f51f7dcd7dc1e7f'), ObjectId('667dfa267f51f7dcd7dc1e80'), ObjectId('667dfa267f51f7dcd7dc1e81'), ObjectId('667dfa267f51f7dcd7dc1e82'), ObjectId('667dfa267f51f7dcd7dc1e83'), ObjectId('667dfa267f51f7dcd7dc1e84'), ObjectId('667dfa267f51f7dcd7dc1e85'), ObjectId('667dfa267f51f7dcd7dc1e86'), ObjectId('667dfa267f51f7dcd7dc1e87'), ObjectId('667dfa267f51f7dcd7dc1e88'), ObjectId('667dfa267f51f7dcd7dc1e89'), ObjectId('667dfa267f51f7dcd7dc1e8a'), ObjectId('667dfa267f51f7dcd7dc1e8b'), ObjectId('667dfa267f51f7dcd7dc1e8c'), ObjectId('667dfa267f51f7dcd7dc1e8d'), ObjectId('667dfa267f51f7dcd7dc1e8e'), ObjectId('667dfa267f51f7dcd7dc1e8f'), ObjectId('667dfa267f51f7dcd7dc1e90'), ObjectId('667dfa267f51f7dcd7dc1e91'), ObjectId('667dfa267f51f7dcd7dc1e92'), ObjectId('667dfa267f51f7dcd7dc1e93'), ObjectId('667dfa267f51f7dcd7dc1e94'), ObjectId('667dfa267f51f7dcd7dc1e95'), ObjectId('667dfa267f51f7dcd7dc1e96'), ObjectId('667dfa267f51f7dcd7dc1e97'), ObjectId('667dfa267f51f7dcd7dc1e98'), ObjectId('667dfa267f51f7dcd7dc1e99'), ObjectId('667dfa267f51f7dcd7dc1e9a'), ObjectId('667dfa267f51f7dcd7dc1e9b'), ObjectId('667dfa267f51f7dcd7dc1e9c'), ObjectId('667dfa267f51f7dcd7dc1e9d'), ObjectId('667dfa267f51f7dcd7dc1e9e'), ObjectId('667dfa267f51f7dcd7dc1e9f'), ObjectId('667dfa267f51f7dcd7dc1ea0'), ObjectId('667dfa267f51f7dcd7dc1ea1'), ObjectId('667dfa267f51f7dcd7dc1ea2'), ObjectId('667dfa267f51f7dcd7dc1ea3'), ObjectId('667dfa267f51f7dcd7dc1ea4'), ObjectId('667dfa267f51f7dcd7dc1ea5'), ObjectId('667dfa267f51f7dcd7dc1ea6'), ObjectId('667dfa267f51f7dcd7dc1ea7'), ObjectId('667dfa267f51f7dcd7dc1ea8'), ObjectId('667dfa267f51f7dcd7dc1ea9'), ObjectId('667dfa267f51f7dcd7dc1eaa'), ObjectId('667dfa267f51f7dcd7dc1eab'), ObjectId('667dfa267f51f7dcd7dc1eac'), ObjectId('667dfa267f51f7dcd7dc1ead'), ObjectId('667dfa267f51f7dcd7dc1eae'), ObjectId('667dfa267f51f7dcd7dc1eaf'), ObjectId('667dfa267f51f7dcd7dc1eb0'), ObjectId('667dfa267f51f7dcd7dc1eb1'), ObjectId('667dfa267f51f7dcd7dc1eb2'), ObjectId('667dfa267f51f7dcd7dc1eb3'), ObjectId('667dfa267f51f7dcd7dc1eb4'), ObjectId('667dfa267f51f7dcd7dc1eb5'), ObjectId('667dfa267f51f7dcd7dc1eb6'), ObjectId('667dfa267f51f7dcd7dc1eb7'), ObjectId('667dfa267f51f7dcd7dc1eb8'), ObjectId('667dfa267f51f7dcd7dc1eb9'), ObjectId('667dfa267f51f7dcd7dc1eba'), ObjectId('667dfa267f51f7dcd7dc1ebb'), ObjectId('667dfa267f51f7dcd7dc1ebc'), ObjectId('667dfa267f51f7dcd7dc1ebd'), ObjectId('667dfa267f51f7dcd7dc1ebe'), ObjectId('667dfa267f51f7dcd7dc1ebf'), ObjectId('667dfa267f51f7dcd7dc1ec0'), ObjectId('667dfa267f51f7dcd7dc1ec1'), ObjectId('667dfa267f51f7dcd7dc1ec2'), ObjectId('667dfa267f51f7dcd7dc1ec3'), ObjectId('667dfa267f51f7dcd7dc1ec4'), ObjectId('667dfa267f51f7dcd7dc1ec5'), ObjectId('667dfa267f51f7dcd7dc1ec6'), ObjectId('667dfa267f51f7dcd7dc1ec7'), ObjectId('667dfa267f51f7dcd7dc1ec8'), ObjectId('667dfa267f51f7dcd7dc1ec9'), ObjectId('667dfa267f51f7dcd7dc1eca'), ObjectId('667dfa267f51f7dcd7dc1ecb'), ObjectId('667dfa267f51f7dcd7dc1ecc'), ObjectId('667dfa267f51f7dcd7dc1ecd'), ObjectId('667dfa267f51f7dcd7dc1ece'), ObjectId('667dfa267f51f7dcd7dc1ecf'), ObjectId('667dfa267f51f7dcd7dc1ed0'), ObjectId('667dfa267f51f7dcd7dc1ed1'), ObjectId('667dfa267f51f7dcd7dc1ed2'), ObjectId('667dfa267f51f7dcd7dc1ed3'), ObjectId('667dfa267f51f7dcd7dc1ed4'), ObjectId('667dfa267f51f7dcd7dc1ed5'), ObjectId('667dfa267f51f7dcd7dc1ed6'), ObjectId('667dfa267f51f7dcd7dc1ed7'), ObjectId('667dfa267f51f7dcd7dc1ed8'), ObjectId('667dfa267f51f7dcd7dc1ed9'), ObjectId('667dfa267f51f7dcd7dc1eda'), ObjectId('667dfa267f51f7dcd7dc1edb'), ObjectId('667dfa267f51f7dcd7dc1edc'), ObjectId('667dfa267f51f7dcd7dc1edd'), ObjectId('667dfa267f51f7dcd7dc1ede'), ObjectId('667dfa267f51f7dcd7dc1edf'), ObjectId('667dfa267f51f7dcd7dc1ee0'), ObjectId('667dfa267f51f7dcd7dc1ee1'), ObjectId('667dfa267f51f7dcd7dc1ee2'), ObjectId('667dfa267f51f7dcd7dc1ee3'), ObjectId('667dfa267f51f7dcd7dc1ee4'), ObjectId('667dfa267f51f7dcd7dc1ee5'), ObjectId('667dfa267f51f7dcd7dc1ee6'), ObjectId('667dfa267f51f7dcd7dc1ee7'), ObjectId('667dfa267f51f7dcd7dc1ee8'), ObjectId('667dfa267f51f7dcd7dc1ee9'), ObjectId('667dfa267f51f7dcd7dc1eea'), ObjectId('667dfa267f51f7dcd7dc1eeb'), ObjectId('667dfa267f51f7dcd7dc1eec'), ObjectId('667dfa267f51f7dcd7dc1eed'), ObjectId('667dfa267f51f7dcd7dc1eee'), ObjectId('667dfa267f51f7dcd7dc1eef'), ObjectId('667dfa267f51f7dcd7dc1ef0'), ObjectId('667dfa267f51f7dcd7dc1ef1'), ObjectId('667dfa267f51f7dcd7dc1ef2'), ObjectId('667dfa267f51f7dcd7dc1ef3'), ObjectId('667dfa267f51f7dcd7dc1ef4'), ObjectId('667dfa267f51f7dcd7dc1ef5'), ObjectId('667dfa267f51f7dcd7dc1ef6'), ObjectId('667dfa267f51f7dcd7dc1ef7'), ObjectId('667dfa267f51f7dcd7dc1ef8'), ObjectId('667dfa267f51f7dcd7dc1ef9'), ObjectId('667dfa267f51f7dcd7dc1efa'), ObjectId('667dfa267f51f7dcd7dc1efb'), ObjectId('667dfa267f51f7dcd7dc1efc'), ObjectId('667dfa267f51f7dcd7dc1efd'), ObjectId('667dfa267f51f7dcd7dc1efe'), ObjectId('667dfa267f51f7dcd7dc1eff'), ObjectId('667dfa267f51f7dcd7dc1f00'), ObjectId('667dfa267f51f7dcd7dc1f01'), ObjectId('667dfa267f51f7dcd7dc1f02'), ObjectId('667dfa267f51f7dcd7dc1f03'), ObjectId('667dfa267f51f7dcd7dc1f04'), ObjectId('667dfa267f51f7dcd7dc1f05'), ObjectId('667dfa267f51f7dcd7dc1f06'), ObjectId('667dfa267f51f7dcd7dc1f07'), ObjectId('667dfa267f51f7dcd7dc1f08'), ObjectId('667dfa267f51f7dcd7dc1f09'), ObjectId('667dfa267f51f7dcd7dc1f0a'), ObjectId('667dfa267f51f7dcd7dc1f0b'), ObjectId('667dfa267f51f7dcd7dc1f0c'), ObjectId('667dfa267f51f7dcd7dc1f0d'), ObjectId('667dfa267f51f7dcd7dc1f0e'), ObjectId('667dfa267f51f7dcd7dc1f0f'), ObjectId('667dfa267f51f7dcd7dc1f10'), ObjectId('667dfa267f51f7dcd7dc1f11'), ObjectId('667dfa267f51f7dcd7dc1f12'), ObjectId('667dfa267f51f7dcd7dc1f13'), ObjectId('667dfa267f51f7dcd7dc1f14'), ObjectId('667dfa267f51f7dcd7dc1f15'), ObjectId('667dfa267f51f7dcd7dc1f16'), ObjectId('667dfa267f51f7dcd7dc1f17'), ObjectId('667dfa267f51f7dcd7dc1f18'), ObjectId('667dfa267f51f7dcd7dc1f19'), ObjectId('667dfa267f51f7dcd7dc1f1a'), ObjectId('667dfa267f51f7dcd7dc1f1b'), ObjectId('667dfa267f51f7dcd7dc1f1c'), ObjectId('667dfa267f51f7dcd7dc1f1d'), ObjectId('667dfa267f51f7dcd7dc1f1e'), ObjectId('667dfa267f51f7dcd7dc1f1f'), ObjectId('667dfa267f51f7dcd7dc1f20'), ObjectId('667dfa267f51f7dcd7dc1f21'), ObjectId('667dfa267f51f7dcd7dc1f22'), ObjectId('667dfa267f51f7dcd7dc1f23'), ObjectId('667dfa267f51f7dcd7dc1f24'), ObjectId('667dfa267f51f7dcd7dc1f25'), ObjectId('667dfa267f51f7dcd7dc1f26'), ObjectId('667dfa267f51f7dcd7dc1f27'), ObjectId('667dfa267f51f7dcd7dc1f28'), ObjectId('667dfa267f51f7dcd7dc1f29'), ObjectId('667dfa267f51f7dcd7dc1f2a'), ObjectId('667dfa267f51f7dcd7dc1f2b'), ObjectId('667dfa267f51f7dcd7dc1f2c'), ObjectId('667dfa267f51f7dcd7dc1f2d'), ObjectId('667dfa267f51f7dcd7dc1f2e'), ObjectId('667dfa267f51f7dcd7dc1f2f'), ObjectId('667dfa267f51f7dcd7dc1f30'), ObjectId('667dfa267f51f7dcd7dc1f31'), ObjectId('667dfa267f51f7dcd7dc1f32'), ObjectId('667dfa267f51f7dcd7dc1f33'), ObjectId('667dfa267f51f7dcd7dc1f34'), ObjectId('667dfa267f51f7dcd7dc1f35'), ObjectId('667dfa267f51f7dcd7dc1f36'), ObjectId('667dfa267f51f7dcd7dc1f37'), ObjectId('667dfa267f51f7dcd7dc1f38'), ObjectId('667dfa267f51f7dcd7dc1f39'), ObjectId('667dfa267f51f7dcd7dc1f3a'), ObjectId('667dfa267f51f7dcd7dc1f3b'), ObjectId('667dfa267f51f7dcd7dc1f3c'), ObjectId('667dfa267f51f7dcd7dc1f3d'), ObjectId('667dfa267f51f7dcd7dc1f3e'), ObjectId('667dfa267f51f7dcd7dc1f3f'), ObjectId('667dfa267f51f7dcd7dc1f40'), ObjectId('667dfa267f51f7dcd7dc1f41'), ObjectId('667dfa267f51f7dcd7dc1f42'), ObjectId('667dfa267f51f7dcd7dc1f43'), ObjectId('667dfa267f51f7dcd7dc1f44'), ObjectId('667dfa267f51f7dcd7dc1f45'), ObjectId('667dfa267f51f7dcd7dc1f46'), ObjectId('667dfa267f51f7dcd7dc1f47'), ObjectId('667dfa267f51f7dcd7dc1f48'), ObjectId('667dfa267f51f7dcd7dc1f49'), ObjectId('667dfa267f51f7dcd7dc1f4a'), ObjectId('667dfa267f51f7dcd7dc1f4b'), ObjectId('667dfa267f51f7dcd7dc1f4c'), ObjectId('667dfa267f51f7dcd7dc1f4d'), ObjectId('667dfa267f51f7dcd7dc1f4e'), ObjectId('667dfa267f51f7dcd7dc1f4f'), ObjectId('667dfa267f51f7dcd7dc1f50'), ObjectId('667dfa267f51f7dcd7dc1f51'), ObjectId('667dfa267f51f7dcd7dc1f52'), ObjectId('667dfa267f51f7dcd7dc1f53'), ObjectId('667dfa267f51f7dcd7dc1f54'), ObjectId('667dfa267f51f7dcd7dc1f55'), ObjectId('667dfa267f51f7dcd7dc1f56'), ObjectId('667dfa267f51f7dcd7dc1f57'), ObjectId('667dfa267f51f7dcd7dc1f58'), ObjectId('667dfa267f51f7dcd7dc1f59'), ObjectId('667dfa267f51f7dcd7dc1f5a'), ObjectId('667dfa267f51f7dcd7dc1f5b'), ObjectId('667dfa267f51f7dcd7dc1f5c'), ObjectId('667dfa267f51f7dcd7dc1f5d'), ObjectId('667dfa267f51f7dcd7dc1f5e'), ObjectId('667dfa267f51f7dcd7dc1f5f'), ObjectId('667dfa267f51f7dcd7dc1f60'), ObjectId('667dfa267f51f7dcd7dc1f61'), ObjectId('667dfa267f51f7dcd7dc1f62'), ObjectId('667dfa267f51f7dcd7dc1f63'), ObjectId('667dfa267f51f7dcd7dc1f64'), ObjectId('667dfa267f51f7dcd7dc1f65'), ObjectId('667dfa267f51f7dcd7dc1f66'), ObjectId('667dfa267f51f7dcd7dc1f67'), ObjectId('667dfa267f51f7dcd7dc1f68'), ObjectId('667dfa267f51f7dcd7dc1f69'), ObjectId('667dfa267f51f7dcd7dc1f6a'), ObjectId('667dfa267f51f7dcd7dc1f6b'), ObjectId('667dfa267f51f7dcd7dc1f6c'), ObjectId('667dfa267f51f7dcd7dc1f6d'), ObjectId('667dfa267f51f7dcd7dc1f6e'), ObjectId('667dfa267f51f7dcd7dc1f6f'), ObjectId('667dfa267f51f7dcd7dc1f70'), ObjectId('667dfa267f51f7dcd7dc1f71'), ObjectId('667dfa267f51f7dcd7dc1f72'), ObjectId('667dfa267f51f7dcd7dc1f73'), ObjectId('667dfa267f51f7dcd7dc1f74'), ObjectId('667dfa267f51f7dcd7dc1f75'), ObjectId('667dfa267f51f7dcd7dc1f76'), ObjectId('667dfa267f51f7dcd7dc1f77'), ObjectId('667dfa267f51f7dcd7dc1f78'), ObjectId('667dfa267f51f7dcd7dc1f79'), ObjectId('667dfa267f51f7dcd7dc1f7a'), ObjectId('667dfa267f51f7dcd7dc1f7b'), ObjectId('667dfa267f51f7dcd7dc1f7c'), ObjectId('667dfa267f51f7dcd7dc1f7d'), ObjectId('667dfa267f51f7dcd7dc1f7e'), ObjectId('667dfa267f51f7dcd7dc1f7f'), ObjectId('667dfa267f51f7dcd7dc1f80'), ObjectId('667dfa267f51f7dcd7dc1f81'), ObjectId('667dfa267f51f7dcd7dc1f82'), ObjectId('667dfa267f51f7dcd7dc1f83'), ObjectId('667dfa267f51f7dcd7dc1f84'), ObjectId('667dfa267f51f7dcd7dc1f85'), ObjectId('667dfa267f51f7dcd7dc1f86'), ObjectId('667dfa267f51f7dcd7dc1f87'), ObjectId('667dfa267f51f7dcd7dc1f88'), ObjectId('667dfa267f51f7dcd7dc1f89'), ObjectId('667dfa267f51f7dcd7dc1f8a'), ObjectId('667dfa267f51f7dcd7dc1f8b'), ObjectId('667dfa267f51f7dcd7dc1f8c'), ObjectId('667dfa267f51f7dcd7dc1f8d'), ObjectId('667dfa267f51f7dcd7dc1f8e'), ObjectId('667dfa267f51f7dcd7dc1f8f'), ObjectId('667dfa267f51f7dcd7dc1f90'), ObjectId('667dfa267f51f7dcd7dc1f91'), ObjectId('667dfa267f51f7dcd7dc1f92'), ObjectId('667dfa267f51f7dcd7dc1f93'), ObjectId('667dfa267f51f7dcd7dc1f94'), ObjectId('667dfa267f51f7dcd7dc1f95'), ObjectId('667dfa267f51f7dcd7dc1f96'), ObjectId('667dfa267f51f7dcd7dc1f97'), ObjectId('667dfa267f51f7dcd7dc1f98'), ObjectId('667dfa267f51f7dcd7dc1f99'), ObjectId('667dfa267f51f7dcd7dc1f9a'), ObjectId('667dfa267f51f7dcd7dc1f9b'), ObjectId('667dfa267f51f7dcd7dc1f9c'), ObjectId('667dfa267f51f7dcd7dc1f9d'), ObjectId('667dfa267f51f7dcd7dc1f9e'), ObjectId('667dfa267f51f7dcd7dc1f9f'), ObjectId('667dfa267f51f7dcd7dc1fa0'), ObjectId('667dfa267f51f7dcd7dc1fa1'), ObjectId('667dfa267f51f7dcd7dc1fa2'), ObjectId('667dfa267f51f7dcd7dc1fa3'), ObjectId('667dfa267f51f7dcd7dc1fa4'), ObjectId('667dfa267f51f7dcd7dc1fa5'), ObjectId('667dfa267f51f7dcd7dc1fa6'), ObjectId('667dfa267f51f7dcd7dc1fa7'), ObjectId('667dfa267f51f7dcd7dc1fa8'), ObjectId('667dfa267f51f7dcd7dc1fa9'), ObjectId('667dfa267f51f7dcd7dc1faa'), ObjectId('667dfa267f51f7dcd7dc1fab'), ObjectId('667dfa267f51f7dcd7dc1fac'), ObjectId('667dfa267f51f7dcd7dc1fad'), ObjectId('667dfa267f51f7dcd7dc1fae'), ObjectId('667dfa267f51f7dcd7dc1faf'), ObjectId('667dfa267f51f7dcd7dc1fb0'), ObjectId('667dfa267f51f7dcd7dc1fb1'), ObjectId('667dfa267f51f7dcd7dc1fb2'), ObjectId('667dfa267f51f7dcd7dc1fb3'), ObjectId('667dfa267f51f7dcd7dc1fb4'), ObjectId('667dfa267f51f7dcd7dc1fb5'), ObjectId('667dfa267f51f7dcd7dc1fb6'), ObjectId('667dfa267f51f7dcd7dc1fb7'), ObjectId('667dfa267f51f7dcd7dc1fb8'), ObjectId('667dfa267f51f7dcd7dc1fb9'), ObjectId('667dfa267f51f7dcd7dc1fba'), ObjectId('667dfa267f51f7dcd7dc1fbb'), ObjectId('667dfa267f51f7dcd7dc1fbc'), ObjectId('667dfa267f51f7dcd7dc1fbd'), ObjectId('667dfa267f51f7dcd7dc1fbe'), ObjectId('667dfa267f51f7dcd7dc1fbf'), ObjectId('667dfa267f51f7dcd7dc1fc0'), ObjectId('667dfa267f51f7dcd7dc1fc1'), ObjectId('667dfa267f51f7dcd7dc1fc2'), ObjectId('667dfa267f51f7dcd7dc1fc3'), ObjectId('667dfa267f51f7dcd7dc1fc4'), ObjectId('667dfa267f51f7dcd7dc1fc5'), ObjectId('667dfa267f51f7dcd7dc1fc6'), ObjectId('667dfa267f51f7dcd7dc1fc7'), ObjectId('667dfa267f51f7dcd7dc1fc8'), ObjectId('667dfa267f51f7dcd7dc1fc9'), ObjectId('667dfa267f51f7dcd7dc1fca'), ObjectId('667dfa267f51f7dcd7dc1fcb'), ObjectId('667dfa267f51f7dcd7dc1fcc'), ObjectId('667dfa267f51f7dcd7dc1fcd'), ObjectId('667dfa267f51f7dcd7dc1fce'), ObjectId('667dfa267f51f7dcd7dc1fcf'), ObjectId('667dfa267f51f7dcd7dc1fd0'), ObjectId('667dfa267f51f7dcd7dc1fd1'), ObjectId('667dfa267f51f7dcd7dc1fd2'), ObjectId('667dfa267f51f7dcd7dc1fd3'), ObjectId('667dfa267f51f7dcd7dc1fd4'), ObjectId('667dfa267f51f7dcd7dc1fd5'), ObjectId('667dfa267f51f7dcd7dc1fd6'), ObjectId('667dfa267f51f7dcd7dc1fd7'), ObjectId('667dfa267f51f7dcd7dc1fd8'), ObjectId('667dfa267f51f7dcd7dc1fd9'), ObjectId('667dfa267f51f7dcd7dc1fda'), ObjectId('667dfa267f51f7dcd7dc1fdb'), ObjectId('667dfa267f51f7dcd7dc1fdc'), ObjectId('667dfa267f51f7dcd7dc1fdd'), ObjectId('667dfa267f51f7dcd7dc1fde'), ObjectId('667dfa267f51f7dcd7dc1fdf'), ObjectId('667dfa267f51f7dcd7dc1fe0'), ObjectId('667dfa267f51f7dcd7dc1fe1'), ObjectId('667dfa267f51f7dcd7dc1fe2'), ObjectId('667dfa267f51f7dcd7dc1fe3'), ObjectId('667dfa267f51f7dcd7dc1fe4'), ObjectId('667dfa267f51f7dcd7dc1fe5'), ObjectId('667dfa267f51f7dcd7dc1fe6'), ObjectId('667dfa267f51f7dcd7dc1fe7'), ObjectId('667dfa267f51f7dcd7dc1fe8'), ObjectId('667dfa267f51f7dcd7dc1fe9'), ObjectId('667dfa267f51f7dcd7dc1fea'), ObjectId('667dfa267f51f7dcd7dc1feb'), ObjectId('667dfa267f51f7dcd7dc1fec'), ObjectId('667dfa267f51f7dcd7dc1fed'), ObjectId('667dfa267f51f7dcd7dc1fee'), ObjectId('667dfa267f51f7dcd7dc1fef'), ObjectId('667dfa267f51f7dcd7dc1ff0'), ObjectId('667dfa267f51f7dcd7dc1ff1'), ObjectId('667dfa267f51f7dcd7dc1ff2'), ObjectId('667dfa267f51f7dcd7dc1ff3'), ObjectId('667dfa267f51f7dcd7dc1ff4'), ObjectId('667dfa267f51f7dcd7dc1ff5'), ObjectId('667dfa267f51f7dcd7dc1ff6'), ObjectId('667dfa267f51f7dcd7dc1ff7'), ObjectId('667dfa267f51f7dcd7dc1ff8'), ObjectId('667dfa267f51f7dcd7dc1ff9'), ObjectId('667dfa267f51f7dcd7dc1ffa'), ObjectId('667dfa267f51f7dcd7dc1ffb'), ObjectId('667dfa267f51f7dcd7dc1ffc'), ObjectId('667dfa267f51f7dcd7dc1ffd'), ObjectId('667dfa267f51f7dcd7dc1ffe'), ObjectId('667dfa267f51f7dcd7dc1fff'), ObjectId('667dfa267f51f7dcd7dc2000'), ObjectId('667dfa267f51f7dcd7dc2001'), ObjectId('667dfa267f51f7dcd7dc2002'), ObjectId('667dfa267f51f7dcd7dc2003'), ObjectId('667dfa267f51f7dcd7dc2004'), ObjectId('667dfa267f51f7dcd7dc2005'), ObjectId('667dfa267f51f7dcd7dc2006'), ObjectId('667dfa267f51f7dcd7dc2007'), ObjectId('667dfa267f51f7dcd7dc2008'), ObjectId('667dfa267f51f7dcd7dc2009'), ObjectId('667dfa267f51f7dcd7dc200a'), ObjectId('667dfa267f51f7dcd7dc200b'), ObjectId('667dfa267f51f7dcd7dc200c'), ObjectId('667dfa267f51f7dcd7dc200d'), ObjectId('667dfa267f51f7dcd7dc200e'), ObjectId('667dfa267f51f7dcd7dc200f'), ObjectId('667dfa267f51f7dcd7dc2010'), ObjectId('667dfa267f51f7dcd7dc2011'), ObjectId('667dfa267f51f7dcd7dc2012'), ObjectId('667dfa267f51f7dcd7dc2013'), ObjectId('667dfa267f51f7dcd7dc2014'), ObjectId('667dfa267f51f7dcd7dc2015'), ObjectId('667dfa267f51f7dcd7dc2016'), ObjectId('667dfa267f51f7dcd7dc2017'), ObjectId('667dfa267f51f7dcd7dc2018'), ObjectId('667dfa267f51f7dcd7dc2019'), ObjectId('667dfa267f51f7dcd7dc201a'), ObjectId('667dfa267f51f7dcd7dc201b'), ObjectId('667dfa267f51f7dcd7dc201c'), ObjectId('667dfa267f51f7dcd7dc201d'), ObjectId('667dfa267f51f7dcd7dc201e'), ObjectId('667dfa267f51f7dcd7dc201f'), ObjectId('667dfa267f51f7dcd7dc2020'), ObjectId('667dfa267f51f7dcd7dc2021'), ObjectId('667dfa267f51f7dcd7dc2022'), ObjectId('667dfa267f51f7dcd7dc2023'), ObjectId('667dfa267f51f7dcd7dc2024'), ObjectId('667dfa267f51f7dcd7dc2025'), ObjectId('667dfa267f51f7dcd7dc2026'), ObjectId('667dfa267f51f7dcd7dc2027'), ObjectId('667dfa267f51f7dcd7dc2028'), ObjectId('667dfa267f51f7dcd7dc2029'), ObjectId('667dfa267f51f7dcd7dc202a'), ObjectId('667dfa267f51f7dcd7dc202b'), ObjectId('667dfa267f51f7dcd7dc202c'), ObjectId('667dfa267f51f7dcd7dc202d'), ObjectId('667dfa267f51f7dcd7dc202e'), ObjectId('667dfa267f51f7dcd7dc202f'), ObjectId('667dfa267f51f7dcd7dc2030'), ObjectId('667dfa267f51f7dcd7dc2031'), ObjectId('667dfa267f51f7dcd7dc2032'), ObjectId('667dfa267f51f7dcd7dc2033'), ObjectId('667dfa267f51f7dcd7dc2034'), ObjectId('667dfa267f51f7dcd7dc2035'), ObjectId('667dfa267f51f7dcd7dc2036'), ObjectId('667dfa267f51f7dcd7dc2037'), ObjectId('667dfa267f51f7dcd7dc2038'), ObjectId('667dfa267f51f7dcd7dc2039'), ObjectId('667dfa267f51f7dcd7dc203a'), ObjectId('667dfa267f51f7dcd7dc203b'), ObjectId('667dfa267f51f7dcd7dc203c'), ObjectId('667dfa267f51f7dcd7dc203d'), ObjectId('667dfa267f51f7dcd7dc203e'), ObjectId('667dfa267f51f7dcd7dc203f'), ObjectId('667dfa267f51f7dcd7dc2040'), ObjectId('667dfa267f51f7dcd7dc2041'), ObjectId('667dfa267f51f7dcd7dc2042'), ObjectId('667dfa267f51f7dcd7dc2043'), ObjectId('667dfa267f51f7dcd7dc2044'), ObjectId('667dfa267f51f7dcd7dc2045'), ObjectId('667dfa267f51f7dcd7dc2046'), ObjectId('667dfa267f51f7dcd7dc2047'), ObjectId('667dfa267f51f7dcd7dc2048'), ObjectId('667dfa267f51f7dcd7dc2049'), ObjectId('667dfa267f51f7dcd7dc204a'), ObjectId('667dfa267f51f7dcd7dc204b'), ObjectId('667dfa267f51f7dcd7dc204c'), ObjectId('667dfa267f51f7dcd7dc204d'), ObjectId('667dfa267f51f7dcd7dc204e'), ObjectId('667dfa267f51f7dcd7dc204f'), ObjectId('667dfa267f51f7dcd7dc2050'), ObjectId('667dfa267f51f7dcd7dc2051'), ObjectId('667dfa267f51f7dcd7dc2052'), ObjectId('667dfa267f51f7dcd7dc2053'), ObjectId('667dfa267f51f7dcd7dc2054'), ObjectId('667dfa267f51f7dcd7dc2055'), ObjectId('667dfa267f51f7dcd7dc2056'), ObjectId('667dfa267f51f7dcd7dc2057'), ObjectId('667dfa267f51f7dcd7dc2058'), ObjectId('667dfa267f51f7dcd7dc2059'), ObjectId('667dfa267f51f7dcd7dc205a'), ObjectId('667dfa267f51f7dcd7dc205b'), ObjectId('667dfa267f51f7dcd7dc205c'), ObjectId('667dfa267f51f7dcd7dc205d'), ObjectId('667dfa267f51f7dcd7dc205e'), ObjectId('667dfa267f51f7dcd7dc205f'), ObjectId('667dfa267f51f7dcd7dc2060'), ObjectId('667dfa267f51f7dcd7dc2061'), ObjectId('667dfa267f51f7dcd7dc2062'), ObjectId('667dfa267f51f7dcd7dc2063'), ObjectId('667dfa267f51f7dcd7dc2064'), ObjectId('667dfa267f51f7dcd7dc2065'), ObjectId('667dfa267f51f7dcd7dc2066'), ObjectId('667dfa267f51f7dcd7dc2067'), ObjectId('667dfa267f51f7dcd7dc2068'), ObjectId('667dfa267f51f7dcd7dc2069'), ObjectId('667dfa267f51f7dcd7dc206a'), ObjectId('667dfa267f51f7dcd7dc206b'), ObjectId('667dfa267f51f7dcd7dc206c'), ObjectId('667dfa267f51f7dcd7dc206d'), ObjectId('667dfa267f51f7dcd7dc206e'), ObjectId('667dfa267f51f7dcd7dc206f'), ObjectId('667dfa267f51f7dcd7dc2070'), ObjectId('667dfa267f51f7dcd7dc2071'), ObjectId('667dfa267f51f7dcd7dc2072'), ObjectId('667dfa267f51f7dcd7dc2073'), ObjectId('667dfa267f51f7dcd7dc2074'), ObjectId('667dfa267f51f7dcd7dc2075'), ObjectId('667dfa267f51f7dcd7dc2076'), ObjectId('667dfa267f51f7dcd7dc2077'), ObjectId('667dfa267f51f7dcd7dc2078'), ObjectId('667dfa267f51f7dcd7dc2079'), ObjectId('667dfa267f51f7dcd7dc207a'), ObjectId('667dfa267f51f7dcd7dc207b'), ObjectId('667dfa267f51f7dcd7dc207c'), ObjectId('667dfa267f51f7dcd7dc207d'), ObjectId('667dfa267f51f7dcd7dc207e'), ObjectId('667dfa267f51f7dcd7dc207f'), ObjectId('667dfa267f51f7dcd7dc2080'), ObjectId('667dfa267f51f7dcd7dc2081'), ObjectId('667dfa267f51f7dcd7dc2082'), ObjectId('667dfa267f51f7dcd7dc2083'), ObjectId('667dfa267f51f7dcd7dc2084'), ObjectId('667dfa267f51f7dcd7dc2085'), ObjectId('667dfa267f51f7dcd7dc2086'), ObjectId('667dfa267f51f7dcd7dc2087'), ObjectId('667dfa267f51f7dcd7dc2088'), ObjectId('667dfa267f51f7dcd7dc2089'), ObjectId('667dfa267f51f7dcd7dc208a'), ObjectId('667dfa267f51f7dcd7dc208b'), ObjectId('667dfa267f51f7dcd7dc208c'), ObjectId('667dfa267f51f7dcd7dc208d'), ObjectId('667dfa267f51f7dcd7dc208e'), ObjectId('667dfa267f51f7dcd7dc208f'), ObjectId('667dfa267f51f7dcd7dc2090'), ObjectId('667dfa267f51f7dcd7dc2091'), ObjectId('667dfa267f51f7dcd7dc2092'), ObjectId('667dfa267f51f7dcd7dc2093'), ObjectId('667dfa267f51f7dcd7dc2094'), ObjectId('667dfa267f51f7dcd7dc2095'), ObjectId('667dfa267f51f7dcd7dc2096'), ObjectId('667dfa267f51f7dcd7dc2097'), ObjectId('667dfa267f51f7dcd7dc2098'), ObjectId('667dfa267f51f7dcd7dc2099'), ObjectId('667dfa267f51f7dcd7dc209a'), ObjectId('667dfa267f51f7dcd7dc209b'), ObjectId('667dfa267f51f7dcd7dc209c'), ObjectId('667dfa267f51f7dcd7dc209d'), ObjectId('667dfa267f51f7dcd7dc209e'), ObjectId('667dfa267f51f7dcd7dc209f'), ObjectId('667dfa267f51f7dcd7dc20a0'), ObjectId('667dfa267f51f7dcd7dc20a1'), ObjectId('667dfa267f51f7dcd7dc20a2'), ObjectId('667dfa267f51f7dcd7dc20a3'), ObjectId('667dfa267f51f7dcd7dc20a4'), ObjectId('667dfa267f51f7dcd7dc20a5'), ObjectId('667dfa267f51f7dcd7dc20a6'), ObjectId('667dfa267f51f7dcd7dc20a7'), ObjectId('667dfa267f51f7dcd7dc20a8'), ObjectId('667dfa267f51f7dcd7dc20a9'), ObjectId('667dfa267f51f7dcd7dc20aa'), ObjectId('667dfa267f51f7dcd7dc20ab'), ObjectId('667dfa267f51f7dcd7dc20ac'), ObjectId('667dfa267f51f7dcd7dc20ad'), ObjectId('667dfa267f51f7dcd7dc20ae'), ObjectId('667dfa267f51f7dcd7dc20af'), ObjectId('667dfa267f51f7dcd7dc20b0'), ObjectId('667dfa267f51f7dcd7dc20b1'), ObjectId('667dfa267f51f7dcd7dc20b2'), ObjectId('667dfa267f51f7dcd7dc20b3'), ObjectId('667dfa267f51f7dcd7dc20b4'), ObjectId('667dfa267f51f7dcd7dc20b5'), ObjectId('667dfa267f51f7dcd7dc20b6'), ObjectId('667dfa267f51f7dcd7dc20b7'), ObjectId('667dfa267f51f7dcd7dc20b8'), ObjectId('667dfa267f51f7dcd7dc20b9'), ObjectId('667dfa267f51f7dcd7dc20ba'), ObjectId('667dfa267f51f7dcd7dc20bb'), ObjectId('667dfa267f51f7dcd7dc20bc'), ObjectId('667dfa267f51f7dcd7dc20bd'), ObjectId('667dfa267f51f7dcd7dc20be'), ObjectId('667dfa267f51f7dcd7dc20bf'), ObjectId('667dfa267f51f7dcd7dc20c0'), ObjectId('667dfa267f51f7dcd7dc20c1'), ObjectId('667dfa267f51f7dcd7dc20c2'), ObjectId('667dfa267f51f7dcd7dc20c3'), ObjectId('667dfa267f51f7dcd7dc20c4'), ObjectId('667dfa267f51f7dcd7dc20c5'), ObjectId('667dfa267f51f7dcd7dc20c6'), ObjectId('667dfa267f51f7dcd7dc20c7'), ObjectId('667dfa267f51f7dcd7dc20c8'), ObjectId('667dfa267f51f7dcd7dc20c9'), ObjectId('667dfa267f51f7dcd7dc20ca'), ObjectId('667dfa267f51f7dcd7dc20cb'), ObjectId('667dfa267f51f7dcd7dc20cc'), ObjectId('667dfa267f51f7dcd7dc20cd'), ObjectId('667dfa267f51f7dcd7dc20ce'), ObjectId('667dfa267f51f7dcd7dc20cf'), ObjectId('667dfa267f51f7dcd7dc20d0'), ObjectId('667dfa267f51f7dcd7dc20d1'), ObjectId('667dfa267f51f7dcd7dc20d2'), ObjectId('667dfa267f51f7dcd7dc20d3'), ObjectId('667dfa267f51f7dcd7dc20d4'), ObjectId('667dfa267f51f7dcd7dc20d5'), ObjectId('667dfa267f51f7dcd7dc20d6'), ObjectId('667dfa267f51f7dcd7dc20d7'), ObjectId('667dfa267f51f7dcd7dc20d8'), ObjectId('667dfa267f51f7dcd7dc20d9'), ObjectId('667dfa267f51f7dcd7dc20da'), ObjectId('667dfa267f51f7dcd7dc20db'), ObjectId('667dfa267f51f7dcd7dc20dc'), ObjectId('667dfa267f51f7dcd7dc20dd'), ObjectId('667dfa267f51f7dcd7dc20de'), ObjectId('667dfa267f51f7dcd7dc20df'), ObjectId('667dfa267f51f7dcd7dc20e0'), ObjectId('667dfa267f51f7dcd7dc20e1'), ObjectId('667dfa267f51f7dcd7dc20e2'), ObjectId('667dfa267f51f7dcd7dc20e3'), ObjectId('667dfa267f51f7dcd7dc20e4'), ObjectId('667dfa267f51f7dcd7dc20e5'), ObjectId('667dfa267f51f7dcd7dc20e6'), ObjectId('667dfa267f51f7dcd7dc20e7'), ObjectId('667dfa267f51f7dcd7dc20e8'), ObjectId('667dfa267f51f7dcd7dc20e9'), ObjectId('667dfa267f51f7dcd7dc20ea'), ObjectId('667dfa267f51f7dcd7dc20eb'), ObjectId('667dfa267f51f7dcd7dc20ec'), ObjectId('667dfa267f51f7dcd7dc20ed'), ObjectId('667dfa267f51f7dcd7dc20ee'), ObjectId('667dfa267f51f7dcd7dc20ef'), ObjectId('667dfa267f51f7dcd7dc20f0'), ObjectId('667dfa267f51f7dcd7dc20f1'), ObjectId('667dfa267f51f7dcd7dc20f2'), ObjectId('667dfa267f51f7dcd7dc20f3'), ObjectId('667dfa267f51f7dcd7dc20f4'), ObjectId('667dfa267f51f7dcd7dc20f5'), ObjectId('667dfa267f51f7dcd7dc20f6'), ObjectId('667dfa267f51f7dcd7dc20f7'), ObjectId('667dfa267f51f7dcd7dc20f8'), ObjectId('667dfa267f51f7dcd7dc20f9'), ObjectId('667dfa267f51f7dcd7dc20fa'), ObjectId('667dfa267f51f7dcd7dc20fb'), ObjectId('667dfa267f51f7dcd7dc20fc'), ObjectId('667dfa267f51f7dcd7dc20fd'), ObjectId('667dfa267f51f7dcd7dc20fe'), ObjectId('667dfa267f51f7dcd7dc20ff'), ObjectId('667dfa267f51f7dcd7dc2100'), ObjectId('667dfa267f51f7dcd7dc2101'), ObjectId('667dfa267f51f7dcd7dc2102'), ObjectId('667dfa267f51f7dcd7dc2103'), ObjectId('667dfa267f51f7dcd7dc2104'), ObjectId('667dfa267f51f7dcd7dc2105'), ObjectId('667dfa267f51f7dcd7dc2106'), ObjectId('667dfa267f51f7dcd7dc2107'), ObjectId('667dfa267f51f7dcd7dc2108'), ObjectId('667dfa267f51f7dcd7dc2109'), ObjectId('667dfa267f51f7dcd7dc210a'), ObjectId('667dfa267f51f7dcd7dc210b'), ObjectId('667dfa267f51f7dcd7dc210c'), ObjectId('667dfa267f51f7dcd7dc210d'), ObjectId('667dfa267f51f7dcd7dc210e'), ObjectId('667dfa267f51f7dcd7dc210f'), ObjectId('667dfa267f51f7dcd7dc2110'), ObjectId('667dfa267f51f7dcd7dc2111'), ObjectId('667dfa267f51f7dcd7dc2112'), ObjectId('667dfa267f51f7dcd7dc2113'), ObjectId('667dfa267f51f7dcd7dc2114'), ObjectId('667dfa267f51f7dcd7dc2115'), ObjectId('667dfa267f51f7dcd7dc2116'), ObjectId('667dfa267f51f7dcd7dc2117'), ObjectId('667dfa267f51f7dcd7dc2118'), ObjectId('667dfa267f51f7dcd7dc2119'), ObjectId('667dfa267f51f7dcd7dc211a'), ObjectId('667dfa267f51f7dcd7dc211b'), ObjectId('667dfa267f51f7dcd7dc211c'), ObjectId('667dfa267f51f7dcd7dc211d'), ObjectId('667dfa267f51f7dcd7dc211e'), ObjectId('667dfa267f51f7dcd7dc211f'), ObjectId('667dfa267f51f7dcd7dc2120'), ObjectId('667dfa267f51f7dcd7dc2121'), ObjectId('667dfa267f51f7dcd7dc2122'), ObjectId('667dfa267f51f7dcd7dc2123'), ObjectId('667dfa267f51f7dcd7dc2124'), ObjectId('667dfa267f51f7dcd7dc2125'), ObjectId('667dfa267f51f7dcd7dc2126'), ObjectId('667dfa267f51f7dcd7dc2127'), ObjectId('667dfa267f51f7dcd7dc2128'), ObjectId('667dfa267f51f7dcd7dc2129'), ObjectId('667dfa267f51f7dcd7dc212a'), ObjectId('667dfa267f51f7dcd7dc212b'), ObjectId('667dfa267f51f7dcd7dc212c'), ObjectId('667dfa267f51f7dcd7dc212d'), ObjectId('667dfa267f51f7dcd7dc212e'), ObjectId('667dfa267f51f7dcd7dc212f'), ObjectId('667dfa267f51f7dcd7dc2130'), ObjectId('667dfa267f51f7dcd7dc2131'), ObjectId('667dfa267f51f7dcd7dc2132'), ObjectId('667dfa267f51f7dcd7dc2133'), ObjectId('667dfa267f51f7dcd7dc2134'), ObjectId('667dfa267f51f7dcd7dc2135'), ObjectId('667dfa267f51f7dcd7dc2136'), ObjectId('667dfa267f51f7dcd7dc2137'), ObjectId('667dfa267f51f7dcd7dc2138'), ObjectId('667dfa267f51f7dcd7dc2139'), ObjectId('667dfa267f51f7dcd7dc213a'), ObjectId('667dfa267f51f7dcd7dc213b'), ObjectId('667dfa267f51f7dcd7dc213c'), ObjectId('667dfa267f51f7dcd7dc213d'), ObjectId('667dfa267f51f7dcd7dc213e'), ObjectId('667dfa267f51f7dcd7dc213f'), ObjectId('667dfa267f51f7dcd7dc2140'), ObjectId('667dfa267f51f7dcd7dc2141'), ObjectId('667dfa267f51f7dcd7dc2142'), ObjectId('667dfa267f51f7dcd7dc2143'), ObjectId('667dfa267f51f7dcd7dc2144'), ObjectId('667dfa267f51f7dcd7dc2145'), ObjectId('667dfa267f51f7dcd7dc2146'), ObjectId('667dfa267f51f7dcd7dc2147'), ObjectId('667dfa267f51f7dcd7dc2148'), ObjectId('667dfa267f51f7dcd7dc2149'), ObjectId('667dfa267f51f7dcd7dc214a'), ObjectId('667dfa267f51f7dcd7dc214b'), ObjectId('667dfa267f51f7dcd7dc214c'), ObjectId('667dfa267f51f7dcd7dc214d'), ObjectId('667dfa267f51f7dcd7dc214e'), ObjectId('667dfa267f51f7dcd7dc214f'), ObjectId('667dfa267f51f7dcd7dc2150'), ObjectId('667dfa267f51f7dcd7dc2151'), ObjectId('667dfa267f51f7dcd7dc2152'), ObjectId('667dfa267f51f7dcd7dc2153'), ObjectId('667dfa267f51f7dcd7dc2154'), ObjectId('667dfa267f51f7dcd7dc2155'), ObjectId('667dfa267f51f7dcd7dc2156'), ObjectId('667dfa267f51f7dcd7dc2157'), ObjectId('667dfa267f51f7dcd7dc2158'), ObjectId('667dfa267f51f7dcd7dc2159'), ObjectId('667dfa267f51f7dcd7dc215a'), ObjectId('667dfa267f51f7dcd7dc215b'), ObjectId('667dfa267f51f7dcd7dc215c'), ObjectId('667dfa267f51f7dcd7dc215d'), ObjectId('667dfa267f51f7dcd7dc215e'), ObjectId('667dfa267f51f7dcd7dc215f'), ObjectId('667dfa267f51f7dcd7dc2160'), ObjectId('667dfa267f51f7dcd7dc2161'), ObjectId('667dfa267f51f7dcd7dc2162'), ObjectId('667dfa267f51f7dcd7dc2163'), ObjectId('667dfa267f51f7dcd7dc2164'), ObjectId('667dfa267f51f7dcd7dc2165'), ObjectId('667dfa267f51f7dcd7dc2166'), ObjectId('667dfa267f51f7dcd7dc2167'), ObjectId('667dfa267f51f7dcd7dc2168'), ObjectId('667dfa267f51f7dcd7dc2169'), ObjectId('667dfa267f51f7dcd7dc216a'), ObjectId('667dfa267f51f7dcd7dc216b'), ObjectId('667dfa267f51f7dcd7dc216c'), ObjectId('667dfa267f51f7dcd7dc216d'), ObjectId('667dfa267f51f7dcd7dc216e'), ObjectId('667dfa267f51f7dcd7dc216f'), ObjectId('667dfa267f51f7dcd7dc2170'), ObjectId('667dfa267f51f7dcd7dc2171'), ObjectId('667dfa267f51f7dcd7dc2172'), ObjectId('667dfa267f51f7dcd7dc2173'), ObjectId('667dfa267f51f7dcd7dc2174'), ObjectId('667dfa267f51f7dcd7dc2175'), ObjectId('667dfa267f51f7dcd7dc2176'), ObjectId('667dfa267f51f7dcd7dc2177'), ObjectId('667dfa267f51f7dcd7dc2178'), ObjectId('667dfa267f51f7dcd7dc2179'), ObjectId('667dfa267f51f7dcd7dc217a'), ObjectId('667dfa267f51f7dcd7dc217b'), ObjectId('667dfa267f51f7dcd7dc217c'), ObjectId('667dfa267f51f7dcd7dc217d'), ObjectId('667dfa267f51f7dcd7dc217e'), ObjectId('667dfa267f51f7dcd7dc217f'), ObjectId('667dfa267f51f7dcd7dc2180'), ObjectId('667dfa267f51f7dcd7dc2181'), ObjectId('667dfa267f51f7dcd7dc2182'), ObjectId('667dfa267f51f7dcd7dc2183'), ObjectId('667dfa267f51f7dcd7dc2184'), ObjectId('667dfa267f51f7dcd7dc2185'), ObjectId('667dfa267f51f7dcd7dc2186'), ObjectId('667dfa267f51f7dcd7dc2187'), ObjectId('667dfa267f51f7dcd7dc2188'), ObjectId('667dfa267f51f7dcd7dc2189'), ObjectId('667dfa267f51f7dcd7dc218a'), ObjectId('667dfa267f51f7dcd7dc218b'), ObjectId('667dfa267f51f7dcd7dc218c'), ObjectId('667dfa267f51f7dcd7dc218d'), ObjectId('667dfa267f51f7dcd7dc218e'), ObjectId('667dfa267f51f7dcd7dc218f'), ObjectId('667dfa267f51f7dcd7dc2190'), ObjectId('667dfa267f51f7dcd7dc2191'), ObjectId('667dfa267f51f7dcd7dc2192'), ObjectId('667dfa267f51f7dcd7dc2193'), ObjectId('667dfa267f51f7dcd7dc2194'), ObjectId('667dfa267f51f7dcd7dc2195'), ObjectId('667dfa267f51f7dcd7dc2196'), ObjectId('667dfa267f51f7dcd7dc2197'), ObjectId('667dfa267f51f7dcd7dc2198'), ObjectId('667dfa267f51f7dcd7dc2199'), ObjectId('667dfa267f51f7dcd7dc219a'), ObjectId('667dfa267f51f7dcd7dc219b'), ObjectId('667dfa267f51f7dcd7dc219c'), ObjectId('667dfa267f51f7dcd7dc219d'), ObjectId('667dfa267f51f7dcd7dc219e'), ObjectId('667dfa267f51f7dcd7dc219f'), ObjectId('667dfa267f51f7dcd7dc21a0'), ObjectId('667dfa267f51f7dcd7dc21a1'), ObjectId('667dfa267f51f7dcd7dc21a2'), ObjectId('667dfa267f51f7dcd7dc21a3'), ObjectId('667dfa267f51f7dcd7dc21a4'), ObjectId('667dfa267f51f7dcd7dc21a5'), ObjectId('667dfa267f51f7dcd7dc21a6'), ObjectId('667dfa267f51f7dcd7dc21a7'), ObjectId('667dfa267f51f7dcd7dc21a8'), ObjectId('667dfa267f51f7dcd7dc21a9'), ObjectId('667dfa267f51f7dcd7dc21aa'), ObjectId('667dfa267f51f7dcd7dc21ab'), ObjectId('667dfa267f51f7dcd7dc21ac'), ObjectId('667dfa267f51f7dcd7dc21ad'), ObjectId('667dfa267f51f7dcd7dc21ae'), ObjectId('667dfa267f51f7dcd7dc21af'), ObjectId('667dfa267f51f7dcd7dc21b0'), ObjectId('667dfa267f51f7dcd7dc21b1'), ObjectId('667dfa267f51f7dcd7dc21b2'), ObjectId('667dfa267f51f7dcd7dc21b3'), ObjectId('667dfa267f51f7dcd7dc21b4'), ObjectId('667dfa267f51f7dcd7dc21b5'), ObjectId('667dfa267f51f7dcd7dc21b6'), ObjectId('667dfa267f51f7dcd7dc21b7'), ObjectId('667dfa267f51f7dcd7dc21b8'), ObjectId('667dfa267f51f7dcd7dc21b9'), ObjectId('667dfa267f51f7dcd7dc21ba'), ObjectId('667dfa267f51f7dcd7dc21bb'), ObjectId('667dfa267f51f7dcd7dc21bc'), ObjectId('667dfa267f51f7dcd7dc21bd'), ObjectId('667dfa267f51f7dcd7dc21be'), ObjectId('667dfa267f51f7dcd7dc21bf'), ObjectId('667dfa267f51f7dcd7dc21c0'), ObjectId('667dfa267f51f7dcd7dc21c1'), ObjectId('667dfa267f51f7dcd7dc21c2'), ObjectId('667dfa267f51f7dcd7dc21c3'), ObjectId('667dfa267f51f7dcd7dc21c4'), ObjectId('667dfa267f51f7dcd7dc21c5'), ObjectId('667dfa267f51f7dcd7dc21c6'), ObjectId('667dfa267f51f7dcd7dc21c7'), ObjectId('667dfa267f51f7dcd7dc21c8'), ObjectId('667dfa267f51f7dcd7dc21c9'), ObjectId('667dfa267f51f7dcd7dc21ca'), ObjectId('667dfa267f51f7dcd7dc21cb'), ObjectId('667dfa267f51f7dcd7dc21cc'), ObjectId('667dfa267f51f7dcd7dc21cd'), ObjectId('667dfa267f51f7dcd7dc21ce'), ObjectId('667dfa267f51f7dcd7dc21cf'), ObjectId('667dfa267f51f7dcd7dc21d0'), ObjectId('667dfa267f51f7dcd7dc21d1'), ObjectId('667dfa267f51f7dcd7dc21d2'), ObjectId('667dfa267f51f7dcd7dc21d3'), ObjectId('667dfa267f51f7dcd7dc21d4'), ObjectId('667dfa267f51f7dcd7dc21d5'), ObjectId('667dfa267f51f7dcd7dc21d6'), ObjectId('667dfa267f51f7dcd7dc21d7'), ObjectId('667dfa267f51f7dcd7dc21d8'), ObjectId('667dfa267f51f7dcd7dc21d9'), ObjectId('667dfa267f51f7dcd7dc21da'), ObjectId('667dfa267f51f7dcd7dc21db'), ObjectId('667dfa267f51f7dcd7dc21dc'), ObjectId('667dfa267f51f7dcd7dc21dd'), ObjectId('667dfa267f51f7dcd7dc21de'), ObjectId('667dfa267f51f7dcd7dc21df'), ObjectId('667dfa267f51f7dcd7dc21e0'), ObjectId('667dfa267f51f7dcd7dc21e1'), ObjectId('667dfa267f51f7dcd7dc21e2'), ObjectId('667dfa267f51f7dcd7dc21e3'), ObjectId('667dfa267f51f7dcd7dc21e4'), ObjectId('667dfa267f51f7dcd7dc21e5'), ObjectId('667dfa267f51f7dcd7dc21e6'), ObjectId('667dfa267f51f7dcd7dc21e7'), ObjectId('667dfa267f51f7dcd7dc21e8'), ObjectId('667dfa267f51f7dcd7dc21e9'), ObjectId('667dfa267f51f7dcd7dc21ea'), ObjectId('667dfa267f51f7dcd7dc21eb'), ObjectId('667dfa267f51f7dcd7dc21ec'), ObjectId('667dfa267f51f7dcd7dc21ed'), ObjectId('667dfa267f51f7dcd7dc21ee'), ObjectId('667dfa267f51f7dcd7dc21ef'), ObjectId('667dfa267f51f7dcd7dc21f0'), ObjectId('667dfa267f51f7dcd7dc21f1'), ObjectId('667dfa267f51f7dcd7dc21f2'), ObjectId('667dfa267f51f7dcd7dc21f3'), ObjectId('667dfa267f51f7dcd7dc21f4'), ObjectId('667dfa267f51f7dcd7dc21f5'), ObjectId('667dfa267f51f7dcd7dc21f6'), ObjectId('667dfa267f51f7dcd7dc21f7'), ObjectId('667dfa267f51f7dcd7dc21f8'), ObjectId('667dfa267f51f7dcd7dc21f9'), ObjectId('667dfa267f51f7dcd7dc21fa'), ObjectId('667dfa267f51f7dcd7dc21fb'), ObjectId('667dfa267f51f7dcd7dc21fc'), ObjectId('667dfa267f51f7dcd7dc21fd'), ObjectId('667dfa267f51f7dcd7dc21fe'), ObjectId('667dfa267f51f7dcd7dc21ff'), ObjectId('667dfa267f51f7dcd7dc2200'), ObjectId('667dfa267f51f7dcd7dc2201'), ObjectId('667dfa267f51f7dcd7dc2202'), ObjectId('667dfa267f51f7dcd7dc2203'), ObjectId('667dfa267f51f7dcd7dc2204'), ObjectId('667dfa267f51f7dcd7dc2205'), ObjectId('667dfa267f51f7dcd7dc2206'), ObjectId('667dfa267f51f7dcd7dc2207'), ObjectId('667dfa267f51f7dcd7dc2208'), ObjectId('667dfa267f51f7dcd7dc2209'), ObjectId('667dfa267f51f7dcd7dc220a'), ObjectId('667dfa267f51f7dcd7dc220b'), ObjectId('667dfa267f51f7dcd7dc220c'), ObjectId('667dfa267f51f7dcd7dc220d'), ObjectId('667dfa267f51f7dcd7dc220e'), ObjectId('667dfa267f51f7dcd7dc220f'), ObjectId('667dfa267f51f7dcd7dc2210'), ObjectId('667dfa267f51f7dcd7dc2211'), ObjectId('667dfa267f51f7dcd7dc2212'), ObjectId('667dfa267f51f7dcd7dc2213'), ObjectId('667dfa267f51f7dcd7dc2214'), ObjectId('667dfa267f51f7dcd7dc2215'), ObjectId('667dfa267f51f7dcd7dc2216'), ObjectId('667dfa267f51f7dcd7dc2217'), ObjectId('667dfa267f51f7dcd7dc2218'), ObjectId('667dfa267f51f7dcd7dc2219'), ObjectId('667dfa267f51f7dcd7dc221a'), ObjectId('667dfa267f51f7dcd7dc221b'), ObjectId('667dfa267f51f7dcd7dc221c'), ObjectId('667dfa267f51f7dcd7dc221d'), ObjectId('667dfa267f51f7dcd7dc221e'), ObjectId('667dfa267f51f7dcd7dc221f'), ObjectId('667dfa267f51f7dcd7dc2220'), ObjectId('667dfa267f51f7dcd7dc2221'), ObjectId('667dfa267f51f7dcd7dc2222'), ObjectId('667dfa267f51f7dcd7dc2223'), ObjectId('667dfa267f51f7dcd7dc2224'), ObjectId('667dfa267f51f7dcd7dc2225'), ObjectId('667dfa267f51f7dcd7dc2226'), ObjectId('667dfa267f51f7dcd7dc2227'), ObjectId('667dfa267f51f7dcd7dc2228'), ObjectId('667dfa267f51f7dcd7dc2229'), ObjectId('667dfa267f51f7dcd7dc222a'), ObjectId('667dfa267f51f7dcd7dc222b'), ObjectId('667dfa267f51f7dcd7dc222c'), ObjectId('667dfa267f51f7dcd7dc222d'), ObjectId('667dfa267f51f7dcd7dc222e'), ObjectId('667dfa267f51f7dcd7dc222f'), ObjectId('667dfa267f51f7dcd7dc2230'), ObjectId('667dfa267f51f7dcd7dc2231'), ObjectId('667dfa267f51f7dcd7dc2232'), ObjectId('667dfa267f51f7dcd7dc2233'), ObjectId('667dfa267f51f7dcd7dc2234'), ObjectId('667dfa267f51f7dcd7dc2235'), ObjectId('667dfa267f51f7dcd7dc2236'), ObjectId('667dfa267f51f7dcd7dc2237'), ObjectId('667dfa267f51f7dcd7dc2238'), ObjectId('667dfa267f51f7dcd7dc2239'), ObjectId('667dfa267f51f7dcd7dc223a'), ObjectId('667dfa267f51f7dcd7dc223b'), ObjectId('667dfa267f51f7dcd7dc223c'), ObjectId('667dfa267f51f7dcd7dc223d'), ObjectId('667dfa267f51f7dcd7dc223e'), ObjectId('667dfa267f51f7dcd7dc223f'), ObjectId('667dfa267f51f7dcd7dc2240'), ObjectId('667dfa267f51f7dcd7dc2241'), ObjectId('667dfa267f51f7dcd7dc2242'), ObjectId('667dfa267f51f7dcd7dc2243'), ObjectId('667dfa267f51f7dcd7dc2244'), ObjectId('667dfa267f51f7dcd7dc2245'), ObjectId('667dfa267f51f7dcd7dc2246'), ObjectId('667dfa267f51f7dcd7dc2247'), ObjectId('667dfa267f51f7dcd7dc2248'), ObjectId('667dfa267f51f7dcd7dc2249'), ObjectId('667dfa267f51f7dcd7dc224a'), ObjectId('667dfa267f51f7dcd7dc224b'), ObjectId('667dfa267f51f7dcd7dc224c'), ObjectId('667dfa267f51f7dcd7dc224d'), ObjectId('667dfa267f51f7dcd7dc224e'), ObjectId('667dfa267f51f7dcd7dc224f'), ObjectId('667dfa267f51f7dcd7dc2250'), ObjectId('667dfa267f51f7dcd7dc2251'), ObjectId('667dfa267f51f7dcd7dc2252'), ObjectId('667dfa267f51f7dcd7dc2253'), ObjectId('667dfa267f51f7dcd7dc2254'), ObjectId('667dfa267f51f7dcd7dc2255'), ObjectId('667dfa267f51f7dcd7dc2256'), ObjectId('667dfa267f51f7dcd7dc2257'), ObjectId('667dfa267f51f7dcd7dc2258'), ObjectId('667dfa267f51f7dcd7dc2259'), ObjectId('667dfa267f51f7dcd7dc225a'), ObjectId('667dfa267f51f7dcd7dc225b'), ObjectId('667dfa267f51f7dcd7dc225c'), ObjectId('667dfa267f51f7dcd7dc225d'), ObjectId('667dfa267f51f7dcd7dc225e'), ObjectId('667dfa267f51f7dcd7dc225f'), ObjectId('667dfa267f51f7dcd7dc2260'), ObjectId('667dfa267f51f7dcd7dc2261'), ObjectId('667dfa267f51f7dcd7dc2262'), ObjectId('667dfa267f51f7dcd7dc2263'), ObjectId('667dfa267f51f7dcd7dc2264'), ObjectId('667dfa267f51f7dcd7dc2265'), ObjectId('667dfa267f51f7dcd7dc2266'), ObjectId('667dfa267f51f7dcd7dc2267'), ObjectId('667dfa267f51f7dcd7dc2268'), ObjectId('667dfa267f51f7dcd7dc2269'), ObjectId('667dfa267f51f7dcd7dc226a'), ObjectId('667dfa267f51f7dcd7dc226b'), ObjectId('667dfa267f51f7dcd7dc226c'), ObjectId('667dfa267f51f7dcd7dc226d'), ObjectId('667dfa267f51f7dcd7dc226e'), ObjectId('667dfa267f51f7dcd7dc226f'), ObjectId('667dfa267f51f7dcd7dc2270'), ObjectId('667dfa267f51f7dcd7dc2271'), ObjectId('667dfa267f51f7dcd7dc2272'), ObjectId('667dfa267f51f7dcd7dc2273'), ObjectId('667dfa267f51f7dcd7dc2274'), ObjectId('667dfa267f51f7dcd7dc2275'), ObjectId('667dfa267f51f7dcd7dc2276'), ObjectId('667dfa267f51f7dcd7dc2277'), ObjectId('667dfa267f51f7dcd7dc2278'), ObjectId('667dfa267f51f7dcd7dc2279'), ObjectId('667dfa267f51f7dcd7dc227a'), ObjectId('667dfa267f51f7dcd7dc227b'), ObjectId('667dfa267f51f7dcd7dc227c'), ObjectId('667dfa267f51f7dcd7dc227d'), ObjectId('667dfa267f51f7dcd7dc227e'), ObjectId('667dfa267f51f7dcd7dc227f'), ObjectId('667dfa267f51f7dcd7dc2280'), ObjectId('667dfa267f51f7dcd7dc2281'), ObjectId('667dfa267f51f7dcd7dc2282'), ObjectId('667dfa267f51f7dcd7dc2283'), ObjectId('667dfa267f51f7dcd7dc2284'), ObjectId('667dfa267f51f7dcd7dc2285'), ObjectId('667dfa267f51f7dcd7dc2286'), ObjectId('667dfa267f51f7dcd7dc2287'), ObjectId('667dfa267f51f7dcd7dc2288'), ObjectId('667dfa267f51f7dcd7dc2289'), ObjectId('667dfa267f51f7dcd7dc228a'), ObjectId('667dfa267f51f7dcd7dc228b'), ObjectId('667dfa267f51f7dcd7dc228c'), ObjectId('667dfa267f51f7dcd7dc228d'), ObjectId('667dfa267f51f7dcd7dc228e'), ObjectId('667dfa267f51f7dcd7dc228f'), ObjectId('667dfa267f51f7dcd7dc2290'), ObjectId('667dfa267f51f7dcd7dc2291'), ObjectId('667dfa267f51f7dcd7dc2292'), ObjectId('667dfa267f51f7dcd7dc2293'), ObjectId('667dfa267f51f7dcd7dc2294'), ObjectId('667dfa267f51f7dcd7dc2295'), ObjectId('667dfa267f51f7dcd7dc2296'), ObjectId('667dfa267f51f7dcd7dc2297'), ObjectId('667dfa267f51f7dcd7dc2298'), ObjectId('667dfa267f51f7dcd7dc2299'), ObjectId('667dfa267f51f7dcd7dc229a'), ObjectId('667dfa267f51f7dcd7dc229b'), ObjectId('667dfa267f51f7dcd7dc229c'), ObjectId('667dfa267f51f7dcd7dc229d'), ObjectId('667dfa267f51f7dcd7dc229e'), ObjectId('667dfa267f51f7dcd7dc229f'), ObjectId('667dfa267f51f7dcd7dc22a0'), ObjectId('667dfa267f51f7dcd7dc22a1'), ObjectId('667dfa267f51f7dcd7dc22a2'), ObjectId('667dfa267f51f7dcd7dc22a3'), ObjectId('667dfa267f51f7dcd7dc22a4'), ObjectId('667dfa267f51f7dcd7dc22a5'), ObjectId('667dfa267f51f7dcd7dc22a6'), ObjectId('667dfa267f51f7dcd7dc22a7'), ObjectId('667dfa267f51f7dcd7dc22a8'), ObjectId('667dfa267f51f7dcd7dc22a9'), ObjectId('667dfa267f51f7dcd7dc22aa'), ObjectId('667dfa267f51f7dcd7dc22ab'), ObjectId('667dfa267f51f7dcd7dc22ac'), ObjectId('667dfa267f51f7dcd7dc22ad'), ObjectId('667dfa267f51f7dcd7dc22ae'), ObjectId('667dfa267f51f7dcd7dc22af'), ObjectId('667dfa267f51f7dcd7dc22b0'), ObjectId('667dfa267f51f7dcd7dc22b1'), ObjectId('667dfa267f51f7dcd7dc22b2'), ObjectId('667dfa267f51f7dcd7dc22b3'), ObjectId('667dfa267f51f7dcd7dc22b4'), ObjectId('667dfa267f51f7dcd7dc22b5'), ObjectId('667dfa267f51f7dcd7dc22b6'), ObjectId('667dfa267f51f7dcd7dc22b7'), ObjectId('667dfa267f51f7dcd7dc22b8'), ObjectId('667dfa267f51f7dcd7dc22b9'), ObjectId('667dfa267f51f7dcd7dc22ba'), ObjectId('667dfa267f51f7dcd7dc22bb'), ObjectId('667dfa267f51f7dcd7dc22bc'), ObjectId('667dfa267f51f7dcd7dc22bd'), ObjectId('667dfa267f51f7dcd7dc22be'), ObjectId('667dfa267f51f7dcd7dc22bf'), ObjectId('667dfa267f51f7dcd7dc22c0'), ObjectId('667dfa267f51f7dcd7dc22c1'), ObjectId('667dfa267f51f7dcd7dc22c2'), ObjectId('667dfa267f51f7dcd7dc22c3'), ObjectId('667dfa267f51f7dcd7dc22c4'), ObjectId('667dfa267f51f7dcd7dc22c5'), ObjectId('667dfa267f51f7dcd7dc22c6'), ObjectId('667dfa267f51f7dcd7dc22c7'), ObjectId('667dfa267f51f7dcd7dc22c8'), ObjectId('667dfa267f51f7dcd7dc22c9'), ObjectId('667dfa267f51f7dcd7dc22ca'), ObjectId('667dfa267f51f7dcd7dc22cb'), ObjectId('667dfa267f51f7dcd7dc22cc'), ObjectId('667dfa267f51f7dcd7dc22cd'), ObjectId('667dfa267f51f7dcd7dc22ce'), ObjectId('667dfa267f51f7dcd7dc22cf'), ObjectId('667dfa267f51f7dcd7dc22d0'), ObjectId('667dfa267f51f7dcd7dc22d1'), ObjectId('667dfa267f51f7dcd7dc22d2'), ObjectId('667dfa267f51f7dcd7dc22d3'), ObjectId('667dfa267f51f7dcd7dc22d4'), ObjectId('667dfa267f51f7dcd7dc22d5'), ObjectId('667dfa267f51f7dcd7dc22d6'), ObjectId('667dfa267f51f7dcd7dc22d7'), ObjectId('667dfa267f51f7dcd7dc22d8'), ObjectId('667dfa267f51f7dcd7dc22d9'), ObjectId('667dfa267f51f7dcd7dc22da'), ObjectId('667dfa267f51f7dcd7dc22db'), ObjectId('667dfa267f51f7dcd7dc22dc'), ObjectId('667dfa267f51f7dcd7dc22dd'), ObjectId('667dfa267f51f7dcd7dc22de'), ObjectId('667dfa267f51f7dcd7dc22df'), ObjectId('667dfa267f51f7dcd7dc22e0'), ObjectId('667dfa267f51f7dcd7dc22e1'), ObjectId('667dfa267f51f7dcd7dc22e2'), ObjectId('667dfa267f51f7dcd7dc22e3'), ObjectId('667dfa267f51f7dcd7dc22e4'), ObjectId('667dfa267f51f7dcd7dc22e5'), ObjectId('667dfa267f51f7dcd7dc22e6'), ObjectId('667dfa267f51f7dcd7dc22e7'), ObjectId('667dfa267f51f7dcd7dc22e8'), ObjectId('667dfa267f51f7dcd7dc22e9'), ObjectId('667dfa267f51f7dcd7dc22ea'), ObjectId('667dfa267f51f7dcd7dc22eb'), ObjectId('667dfa267f51f7dcd7dc22ec'), ObjectId('667dfa267f51f7dcd7dc22ed'), ObjectId('667dfa267f51f7dcd7dc22ee'), ObjectId('667dfa267f51f7dcd7dc22ef'), ObjectId('667dfa267f51f7dcd7dc22f0'), ObjectId('667dfa267f51f7dcd7dc22f1'), ObjectId('667dfa267f51f7dcd7dc22f2'), ObjectId('667dfa267f51f7dcd7dc22f3'), ObjectId('667dfa267f51f7dcd7dc22f4'), ObjectId('667dfa267f51f7dcd7dc22f5'), ObjectId('667dfa267f51f7dcd7dc22f6'), ObjectId('667dfa267f51f7dcd7dc22f7'), ObjectId('667dfa267f51f7dcd7dc22f8'), ObjectId('667dfa267f51f7dcd7dc22f9'), ObjectId('667dfa267f51f7dcd7dc22fa'), ObjectId('667dfa267f51f7dcd7dc22fb'), ObjectId('667dfa267f51f7dcd7dc22fc'), ObjectId('667dfa267f51f7dcd7dc22fd'), ObjectId('667dfa267f51f7dcd7dc22fe'), ObjectId('667dfa267f51f7dcd7dc22ff'), ObjectId('667dfa267f51f7dcd7dc2300'), ObjectId('667dfa267f51f7dcd7dc2301'), ObjectId('667dfa267f51f7dcd7dc2302'), ObjectId('667dfa267f51f7dcd7dc2303'), ObjectId('667dfa267f51f7dcd7dc2304'), ObjectId('667dfa267f51f7dcd7dc2305'), ObjectId('667dfa267f51f7dcd7dc2306'), ObjectId('667dfa267f51f7dcd7dc2307'), ObjectId('667dfa267f51f7dcd7dc2308'), ObjectId('667dfa267f51f7dcd7dc2309'), ObjectId('667dfa267f51f7dcd7dc230a'), ObjectId('667dfa267f51f7dcd7dc230b'), ObjectId('667dfa267f51f7dcd7dc230c'), ObjectId('667dfa267f51f7dcd7dc230d'), ObjectId('667dfa267f51f7dcd7dc230e'), ObjectId('667dfa267f51f7dcd7dc230f'), ObjectId('667dfa267f51f7dcd7dc2310'), ObjectId('667dfa267f51f7dcd7dc2311'), ObjectId('667dfa267f51f7dcd7dc2312'), ObjectId('667dfa267f51f7dcd7dc2313'), ObjectId('667dfa267f51f7dcd7dc2314'), ObjectId('667dfa267f51f7dcd7dc2315'), ObjectId('667dfa267f51f7dcd7dc2316'), ObjectId('667dfa267f51f7dcd7dc2317'), ObjectId('667dfa267f51f7dcd7dc2318'), ObjectId('667dfa267f51f7dcd7dc2319'), ObjectId('667dfa267f51f7dcd7dc231a'), ObjectId('667dfa267f51f7dcd7dc231b'), ObjectId('667dfa267f51f7dcd7dc231c'), ObjectId('667dfa267f51f7dcd7dc231d'), ObjectId('667dfa267f51f7dcd7dc231e'), ObjectId('667dfa267f51f7dcd7dc231f'), ObjectId('667dfa267f51f7dcd7dc2320'), ObjectId('667dfa267f51f7dcd7dc2321'), ObjectId('667dfa267f51f7dcd7dc2322'), ObjectId('667dfa267f51f7dcd7dc2323'), ObjectId('667dfa267f51f7dcd7dc2324'), ObjectId('667dfa267f51f7dcd7dc2325'), ObjectId('667dfa267f51f7dcd7dc2326'), ObjectId('667dfa267f51f7dcd7dc2327'), ObjectId('667dfa267f51f7dcd7dc2328'), ObjectId('667dfa267f51f7dcd7dc2329'), ObjectId('667dfa267f51f7dcd7dc232a'), ObjectId('667dfa267f51f7dcd7dc232b'), ObjectId('667dfa267f51f7dcd7dc232c'), ObjectId('667dfa267f51f7dcd7dc232d'), ObjectId('667dfa267f51f7dcd7dc232e'), ObjectId('667dfa267f51f7dcd7dc232f'), ObjectId('667dfa267f51f7dcd7dc2330'), ObjectId('667dfa267f51f7dcd7dc2331'), ObjectId('667dfa267f51f7dcd7dc2332'), ObjectId('667dfa267f51f7dcd7dc2333'), ObjectId('667dfa267f51f7dcd7dc2334'), ObjectId('667dfa267f51f7dcd7dc2335'), ObjectId('667dfa267f51f7dcd7dc2336'), ObjectId('667dfa267f51f7dcd7dc2337'), ObjectId('667dfa267f51f7dcd7dc2338'), ObjectId('667dfa267f51f7dcd7dc2339'), ObjectId('667dfa267f51f7dcd7dc233a'), ObjectId('667dfa267f51f7dcd7dc233b'), ObjectId('667dfa267f51f7dcd7dc233c'), ObjectId('667dfa267f51f7dcd7dc233d'), ObjectId('667dfa267f51f7dcd7dc233e'), ObjectId('667dfa267f51f7dcd7dc233f'), ObjectId('667dfa267f51f7dcd7dc2340'), ObjectId('667dfa267f51f7dcd7dc2341'), ObjectId('667dfa267f51f7dcd7dc2342'), ObjectId('667dfa267f51f7dcd7dc2343'), ObjectId('667dfa267f51f7dcd7dc2344'), ObjectId('667dfa267f51f7dcd7dc2345'), ObjectId('667dfa267f51f7dcd7dc2346'), ObjectId('667dfa267f51f7dcd7dc2347'), ObjectId('667dfa267f51f7dcd7dc2348'), ObjectId('667dfa267f51f7dcd7dc2349'), ObjectId('667dfa267f51f7dcd7dc234a'), ObjectId('667dfa267f51f7dcd7dc234b'), ObjectId('667dfa267f51f7dcd7dc234c'), ObjectId('667dfa267f51f7dcd7dc234d'), ObjectId('667dfa267f51f7dcd7dc234e'), ObjectId('667dfa267f51f7dcd7dc234f'), ObjectId('667dfa267f51f7dcd7dc2350'), ObjectId('667dfa267f51f7dcd7dc2351'), ObjectId('667dfa267f51f7dcd7dc2352'), ObjectId('667dfa267f51f7dcd7dc2353'), ObjectId('667dfa267f51f7dcd7dc2354'), ObjectId('667dfa267f51f7dcd7dc2355'), ObjectId('667dfa267f51f7dcd7dc2356'), ObjectId('667dfa267f51f7dcd7dc2357'), ObjectId('667dfa267f51f7dcd7dc2358'), ObjectId('667dfa267f51f7dcd7dc2359'), ObjectId('667dfa267f51f7dcd7dc235a'), ObjectId('667dfa267f51f7dcd7dc235b'), ObjectId('667dfa267f51f7dcd7dc235c'), ObjectId('667dfa267f51f7dcd7dc235d'), ObjectId('667dfa267f51f7dcd7dc235e'), ObjectId('667dfa267f51f7dcd7dc235f'), ObjectId('667dfa267f51f7dcd7dc2360'), ObjectId('667dfa267f51f7dcd7dc2361'), ObjectId('667dfa267f51f7dcd7dc2362'), ObjectId('667dfa267f51f7dcd7dc2363'), ObjectId('667dfa267f51f7dcd7dc2364'), ObjectId('667dfa267f51f7dcd7dc2365'), ObjectId('667dfa267f51f7dcd7dc2366'), ObjectId('667dfa267f51f7dcd7dc2367'), ObjectId('667dfa267f51f7dcd7dc2368'), ObjectId('667dfa267f51f7dcd7dc2369'), ObjectId('667dfa267f51f7dcd7dc236a'), ObjectId('667dfa267f51f7dcd7dc236b'), ObjectId('667dfa267f51f7dcd7dc236c'), ObjectId('667dfa267f51f7dcd7dc236d'), ObjectId('667dfa267f51f7dcd7dc236e'), ObjectId('667dfa267f51f7dcd7dc236f'), ObjectId('667dfa267f51f7dcd7dc2370'), ObjectId('667dfa267f51f7dcd7dc2371'), ObjectId('667dfa267f51f7dcd7dc2372'), ObjectId('667dfa267f51f7dcd7dc2373'), ObjectId('667dfa267f51f7dcd7dc2374'), ObjectId('667dfa267f51f7dcd7dc2375'), ObjectId('667dfa267f51f7dcd7dc2376'), ObjectId('667dfa267f51f7dcd7dc2377'), ObjectId('667dfa267f51f7dcd7dc2378'), ObjectId('667dfa267f51f7dcd7dc2379'), ObjectId('667dfa267f51f7dcd7dc237a'), ObjectId('667dfa267f51f7dcd7dc237b'), ObjectId('667dfa267f51f7dcd7dc237c'), ObjectId('667dfa267f51f7dcd7dc237d'), ObjectId('667dfa267f51f7dcd7dc237e'), ObjectId('667dfa267f51f7dcd7dc237f'), ObjectId('667dfa267f51f7dcd7dc2380'), ObjectId('667dfa267f51f7dcd7dc2381'), ObjectId('667dfa267f51f7dcd7dc2382'), ObjectId('667dfa267f51f7dcd7dc2383'), ObjectId('667dfa267f51f7dcd7dc2384'), ObjectId('667dfa267f51f7dcd7dc2385'), ObjectId('667dfa267f51f7dcd7dc2386'), ObjectId('667dfa267f51f7dcd7dc2387'), ObjectId('667dfa267f51f7dcd7dc2388'), ObjectId('667dfa267f51f7dcd7dc2389'), ObjectId('667dfa267f51f7dcd7dc238a'), ObjectId('667dfa267f51f7dcd7dc238b'), ObjectId('667dfa267f51f7dcd7dc238c'), ObjectId('667dfa267f51f7dcd7dc238d'), ObjectId('667dfa267f51f7dcd7dc238e'), ObjectId('667dfa267f51f7dcd7dc238f'), ObjectId('667dfa267f51f7dcd7dc2390'), ObjectId('667dfa267f51f7dcd7dc2391'), ObjectId('667dfa267f51f7dcd7dc2392'), ObjectId('667dfa267f51f7dcd7dc2393'), ObjectId('667dfa267f51f7dcd7dc2394'), ObjectId('667dfa267f51f7dcd7dc2395'), ObjectId('667dfa267f51f7dcd7dc2396'), ObjectId('667dfa267f51f7dcd7dc2397'), ObjectId('667dfa267f51f7dcd7dc2398'), ObjectId('667dfa267f51f7dcd7dc2399'), ObjectId('667dfa267f51f7dcd7dc239a'), ObjectId('667dfa267f51f7dcd7dc239b'), ObjectId('667dfa267f51f7dcd7dc239c'), ObjectId('667dfa267f51f7dcd7dc239d'), ObjectId('667dfa267f51f7dcd7dc239e'), ObjectId('667dfa267f51f7dcd7dc239f'), ObjectId('667dfa267f51f7dcd7dc23a0'), ObjectId('667dfa267f51f7dcd7dc23a1'), ObjectId('667dfa267f51f7dcd7dc23a2'), ObjectId('667dfa267f51f7dcd7dc23a3'), ObjectId('667dfa267f51f7dcd7dc23a4'), ObjectId('667dfa267f51f7dcd7dc23a5'), ObjectId('667dfa267f51f7dcd7dc23a6'), ObjectId('667dfa267f51f7dcd7dc23a7'), ObjectId('667dfa267f51f7dcd7dc23a8'), ObjectId('667dfa267f51f7dcd7dc23a9'), ObjectId('667dfa267f51f7dcd7dc23aa'), ObjectId('667dfa267f51f7dcd7dc23ab'), ObjectId('667dfa267f51f7dcd7dc23ac'), ObjectId('667dfa267f51f7dcd7dc23ad'), ObjectId('667dfa267f51f7dcd7dc23ae'), ObjectId('667dfa267f51f7dcd7dc23af'), ObjectId('667dfa267f51f7dcd7dc23b0'), ObjectId('667dfa267f51f7dcd7dc23b1'), ObjectId('667dfa267f51f7dcd7dc23b2'), ObjectId('667dfa267f51f7dcd7dc23b3'), ObjectId('667dfa267f51f7dcd7dc23b4'), ObjectId('667dfa267f51f7dcd7dc23b5'), ObjectId('667dfa267f51f7dcd7dc23b6'), ObjectId('667dfa267f51f7dcd7dc23b7'), ObjectId('667dfa267f51f7dcd7dc23b8'), ObjectId('667dfa267f51f7dcd7dc23b9'), ObjectId('667dfa267f51f7dcd7dc23ba'), ObjectId('667dfa267f51f7dcd7dc23bb'), ObjectId('667dfa267f51f7dcd7dc23bc'), ObjectId('667dfa267f51f7dcd7dc23bd'), ObjectId('667dfa267f51f7dcd7dc23be'), ObjectId('667dfa267f51f7dcd7dc23bf'), ObjectId('667dfa267f51f7dcd7dc23c0'), ObjectId('667dfa267f51f7dcd7dc23c1'), ObjectId('667dfa267f51f7dcd7dc23c2'), ObjectId('667dfa267f51f7dcd7dc23c3'), ObjectId('667dfa267f51f7dcd7dc23c4'), ObjectId('667dfa267f51f7dcd7dc23c5'), ObjectId('667dfa267f51f7dcd7dc23c6'), ObjectId('667dfa267f51f7dcd7dc23c7'), ObjectId('667dfa267f51f7dcd7dc23c8'), ObjectId('667dfa267f51f7dcd7dc23c9'), ObjectId('667dfa267f51f7dcd7dc23ca'), ObjectId('667dfa267f51f7dcd7dc23cb'), ObjectId('667dfa267f51f7dcd7dc23cc'), ObjectId('667dfa267f51f7dcd7dc23cd'), ObjectId('667dfa267f51f7dcd7dc23ce'), ObjectId('667dfa267f51f7dcd7dc23cf'), ObjectId('667dfa267f51f7dcd7dc23d0'), ObjectId('667dfa267f51f7dcd7dc23d1'), ObjectId('667dfa267f51f7dcd7dc23d2'), ObjectId('667dfa267f51f7dcd7dc23d3'), ObjectId('667dfa267f51f7dcd7dc23d4'), ObjectId('667dfa267f51f7dcd7dc23d5'), ObjectId('667dfa267f51f7dcd7dc23d6'), ObjectId('667dfa267f51f7dcd7dc23d7'), ObjectId('667dfa267f51f7dcd7dc23d8'), ObjectId('667dfa267f51f7dcd7dc23d9'), ObjectId('667dfa267f51f7dcd7dc23da'), ObjectId('667dfa267f51f7dcd7dc23db'), ObjectId('667dfa267f51f7dcd7dc23dc'), ObjectId('667dfa267f51f7dcd7dc23dd'), ObjectId('667dfa267f51f7dcd7dc23de'), ObjectId('667dfa267f51f7dcd7dc23df'), ObjectId('667dfa267f51f7dcd7dc23e0'), ObjectId('667dfa267f51f7dcd7dc23e1'), ObjectId('667dfa267f51f7dcd7dc23e2'), ObjectId('667dfa267f51f7dcd7dc23e3'), ObjectId('667dfa267f51f7dcd7dc23e4'), ObjectId('667dfa267f51f7dcd7dc23e5'), ObjectId('667dfa267f51f7dcd7dc23e6'), ObjectId('667dfa267f51f7dcd7dc23e7'), ObjectId('667dfa267f51f7dcd7dc23e8'), ObjectId('667dfa267f51f7dcd7dc23e9'), ObjectId('667dfa267f51f7dcd7dc23ea'), ObjectId('667dfa267f51f7dcd7dc23eb'), ObjectId('667dfa267f51f7dcd7dc23ec'), ObjectId('667dfa267f51f7dcd7dc23ed'), ObjectId('667dfa267f51f7dcd7dc23ee'), ObjectId('667dfa267f51f7dcd7dc23ef'), ObjectId('667dfa267f51f7dcd7dc23f0'), ObjectId('667dfa267f51f7dcd7dc23f1'), ObjectId('667dfa267f51f7dcd7dc23f2'), ObjectId('667dfa267f51f7dcd7dc23f3'), ObjectId('667dfa267f51f7dcd7dc23f4'), ObjectId('667dfa267f51f7dcd7dc23f5'), ObjectId('667dfa267f51f7dcd7dc23f6'), ObjectId('667dfa267f51f7dcd7dc23f7'), ObjectId('667dfa267f51f7dcd7dc23f8'), ObjectId('667dfa267f51f7dcd7dc23f9'), ObjectId('667dfa267f51f7dcd7dc23fa'), ObjectId('667dfa267f51f7dcd7dc23fb'), ObjectId('667dfa267f51f7dcd7dc23fc'), ObjectId('667dfa267f51f7dcd7dc23fd'), ObjectId('667dfa267f51f7dcd7dc23fe'), ObjectId('667dfa267f51f7dcd7dc23ff'), ObjectId('667dfa267f51f7dcd7dc2400'), ObjectId('667dfa267f51f7dcd7dc2401'), ObjectId('667dfa267f51f7dcd7dc2402'), ObjectId('667dfa267f51f7dcd7dc2403'), ObjectId('667dfa267f51f7dcd7dc2404'), ObjectId('667dfa267f51f7dcd7dc2405'), ObjectId('667dfa267f51f7dcd7dc2406'), ObjectId('667dfa267f51f7dcd7dc2407'), ObjectId('667dfa267f51f7dcd7dc2408'), ObjectId('667dfa267f51f7dcd7dc2409'), ObjectId('667dfa267f51f7dcd7dc240a'), ObjectId('667dfa267f51f7dcd7dc240b'), ObjectId('667dfa267f51f7dcd7dc240c'), ObjectId('667dfa267f51f7dcd7dc240d'), ObjectId('667dfa267f51f7dcd7dc240e'), ObjectId('667dfa267f51f7dcd7dc240f'), ObjectId('667dfa267f51f7dcd7dc2410'), ObjectId('667dfa267f51f7dcd7dc2411'), ObjectId('667dfa267f51f7dcd7dc2412'), ObjectId('667dfa267f51f7dcd7dc2413'), ObjectId('667dfa267f51f7dcd7dc2414'), ObjectId('667dfa267f51f7dcd7dc2415'), ObjectId('667dfa267f51f7dcd7dc2416'), ObjectId('667dfa267f51f7dcd7dc2417'), ObjectId('667dfa267f51f7dcd7dc2418'), ObjectId('667dfa267f51f7dcd7dc2419'), ObjectId('667dfa267f51f7dcd7dc241a'), ObjectId('667dfa267f51f7dcd7dc241b'), ObjectId('667dfa267f51f7dcd7dc241c'), ObjectId('667dfa267f51f7dcd7dc241d'), ObjectId('667dfa267f51f7dcd7dc241e'), ObjectId('667dfa267f51f7dcd7dc241f'), ObjectId('667dfa267f51f7dcd7dc2420'), ObjectId('667dfa267f51f7dcd7dc2421'), ObjectId('667dfa267f51f7dcd7dc2422'), ObjectId('667dfa267f51f7dcd7dc2423'), ObjectId('667dfa267f51f7dcd7dc2424'), ObjectId('667dfa267f51f7dcd7dc2425'), ObjectId('667dfa267f51f7dcd7dc2426'), ObjectId('667dfa267f51f7dcd7dc2427'), ObjectId('667dfa267f51f7dcd7dc2428'), ObjectId('667dfa267f51f7dcd7dc2429'), ObjectId('667dfa267f51f7dcd7dc242a'), ObjectId('667dfa267f51f7dcd7dc242b'), ObjectId('667dfa267f51f7dcd7dc242c'), ObjectId('667dfa267f51f7dcd7dc242d'), ObjectId('667dfa267f51f7dcd7dc242e'), ObjectId('667dfa267f51f7dcd7dc242f'), ObjectId('667dfa267f51f7dcd7dc2430'), ObjectId('667dfa267f51f7dcd7dc2431'), ObjectId('667dfa267f51f7dcd7dc2432'), ObjectId('667dfa267f51f7dcd7dc2433'), ObjectId('667dfa267f51f7dcd7dc2434'), ObjectId('667dfa267f51f7dcd7dc2435'), ObjectId('667dfa267f51f7dcd7dc2436'), ObjectId('667dfa267f51f7dcd7dc2437'), ObjectId('667dfa267f51f7dcd7dc2438'), ObjectId('667dfa267f51f7dcd7dc2439'), ObjectId('667dfa267f51f7dcd7dc243a'), ObjectId('667dfa267f51f7dcd7dc243b'), ObjectId('667dfa267f51f7dcd7dc243c'), ObjectId('667dfa267f51f7dcd7dc243d'), ObjectId('667dfa267f51f7dcd7dc243e'), ObjectId('667dfa267f51f7dcd7dc243f'), ObjectId('667dfa267f51f7dcd7dc2440'), ObjectId('667dfa267f51f7dcd7dc2441'), ObjectId('667dfa267f51f7dcd7dc2442'), ObjectId('667dfa267f51f7dcd7dc2443'), ObjectId('667dfa267f51f7dcd7dc2444'), ObjectId('667dfa267f51f7dcd7dc2445'), ObjectId('667dfa267f51f7dcd7dc2446'), ObjectId('667dfa267f51f7dcd7dc2447'), ObjectId('667dfa267f51f7dcd7dc2448'), ObjectId('667dfa267f51f7dcd7dc2449'), ObjectId('667dfa267f51f7dcd7dc244a'), ObjectId('667dfa267f51f7dcd7dc244b'), ObjectId('667dfa267f51f7dcd7dc244c'), ObjectId('667dfa267f51f7dcd7dc244d'), ObjectId('667dfa267f51f7dcd7dc244e'), ObjectId('667dfa267f51f7dcd7dc244f'), ObjectId('667dfa267f51f7dcd7dc2450'), ObjectId('667dfa267f51f7dcd7dc2451'), ObjectId('667dfa267f51f7dcd7dc2452'), ObjectId('667dfa267f51f7dcd7dc2453'), ObjectId('667dfa267f51f7dcd7dc2454'), ObjectId('667dfa267f51f7dcd7dc2455'), ObjectId('667dfa267f51f7dcd7dc2456'), ObjectId('667dfa267f51f7dcd7dc2457'), ObjectId('667dfa267f51f7dcd7dc2458'), ObjectId('667dfa267f51f7dcd7dc2459'), ObjectId('667dfa267f51f7dcd7dc245a'), ObjectId('667dfa267f51f7dcd7dc245b'), ObjectId('667dfa267f51f7dcd7dc245c'), ObjectId('667dfa267f51f7dcd7dc245d'), ObjectId('667dfa267f51f7dcd7dc245e'), ObjectId('667dfa267f51f7dcd7dc245f'), ObjectId('667dfa267f51f7dcd7dc2460'), ObjectId('667dfa267f51f7dcd7dc2461'), ObjectId('667dfa267f51f7dcd7dc2462'), ObjectId('667dfa267f51f7dcd7dc2463'), ObjectId('667dfa267f51f7dcd7dc2464'), ObjectId('667dfa267f51f7dcd7dc2465'), ObjectId('667dfa267f51f7dcd7dc2466'), ObjectId('667dfa267f51f7dcd7dc2467'), ObjectId('667dfa267f51f7dcd7dc2468'), ObjectId('667dfa267f51f7dcd7dc2469'), ObjectId('667dfa267f51f7dcd7dc246a'), ObjectId('667dfa267f51f7dcd7dc246b'), ObjectId('667dfa267f51f7dcd7dc246c'), ObjectId('667dfa267f51f7dcd7dc246d'), ObjectId('667dfa267f51f7dcd7dc246e'), ObjectId('667dfa267f51f7dcd7dc246f'), ObjectId('667dfa267f51f7dcd7dc2470'), ObjectId('667dfa267f51f7dcd7dc2471'), ObjectId('667dfa267f51f7dcd7dc2472'), ObjectId('667dfa267f51f7dcd7dc2473'), ObjectId('667dfa267f51f7dcd7dc2474'), ObjectId('667dfa267f51f7dcd7dc2475'), ObjectId('667dfa267f51f7dcd7dc2476'), ObjectId('667dfa267f51f7dcd7dc2477'), ObjectId('667dfa267f51f7dcd7dc2478'), ObjectId('667dfa267f51f7dcd7dc2479'), ObjectId('667dfa267f51f7dcd7dc247a'), ObjectId('667dfa267f51f7dcd7dc247b'), ObjectId('667dfa267f51f7dcd7dc247c'), ObjectId('667dfa267f51f7dcd7dc247d'), ObjectId('667dfa267f51f7dcd7dc247e'), ObjectId('667dfa267f51f7dcd7dc247f'), ObjectId('667dfa267f51f7dcd7dc2480'), ObjectId('667dfa267f51f7dcd7dc2481'), ObjectId('667dfa267f51f7dcd7dc2482'), ObjectId('667dfa267f51f7dcd7dc2483'), ObjectId('667dfa267f51f7dcd7dc2484'), ObjectId('667dfa267f51f7dcd7dc2485'), ObjectId('667dfa267f51f7dcd7dc2486'), ObjectId('667dfa267f51f7dcd7dc2487'), ObjectId('667dfa267f51f7dcd7dc2488'), ObjectId('667dfa267f51f7dcd7dc2489'), ObjectId('667dfa267f51f7dcd7dc248a'), ObjectId('667dfa267f51f7dcd7dc248b'), ObjectId('667dfa267f51f7dcd7dc248c'), ObjectId('667dfa267f51f7dcd7dc248d'), ObjectId('667dfa267f51f7dcd7dc248e'), ObjectId('667dfa267f51f7dcd7dc248f'), ObjectId('667dfa267f51f7dcd7dc2490'), ObjectId('667dfa267f51f7dcd7dc2491'), ObjectId('667dfa267f51f7dcd7dc2492'), ObjectId('667dfa267f51f7dcd7dc2493'), ObjectId('667dfa267f51f7dcd7dc2494'), ObjectId('667dfa267f51f7dcd7dc2495'), ObjectId('667dfa267f51f7dcd7dc2496'), ObjectId('667dfa267f51f7dcd7dc2497'), ObjectId('667dfa267f51f7dcd7dc2498'), ObjectId('667dfa267f51f7dcd7dc2499'), ObjectId('667dfa267f51f7dcd7dc249a'), ObjectId('667dfa267f51f7dcd7dc249b'), ObjectId('667dfa267f51f7dcd7dc249c'), ObjectId('667dfa267f51f7dcd7dc249d'), ObjectId('667dfa267f51f7dcd7dc249e'), ObjectId('667dfa267f51f7dcd7dc249f'), ObjectId('667dfa267f51f7dcd7dc24a0'), ObjectId('667dfa267f51f7dcd7dc24a1'), ObjectId('667dfa267f51f7dcd7dc24a2'), ObjectId('667dfa267f51f7dcd7dc24a3'), ObjectId('667dfa267f51f7dcd7dc24a4'), ObjectId('667dfa267f51f7dcd7dc24a5'), ObjectId('667dfa267f51f7dcd7dc24a6'), ObjectId('667dfa267f51f7dcd7dc24a7'), ObjectId('667dfa267f51f7dcd7dc24a8'), ObjectId('667dfa267f51f7dcd7dc24a9'), ObjectId('667dfa267f51f7dcd7dc24aa'), ObjectId('667dfa267f51f7dcd7dc24ab'), ObjectId('667dfa267f51f7dcd7dc24ac'), ObjectId('667dfa267f51f7dcd7dc24ad'), ObjectId('667dfa267f51f7dcd7dc24ae'), ObjectId('667dfa267f51f7dcd7dc24af'), ObjectId('667dfa267f51f7dcd7dc24b0'), ObjectId('667dfa267f51f7dcd7dc24b1'), ObjectId('667dfa267f51f7dcd7dc24b2'), ObjectId('667dfa267f51f7dcd7dc24b3'), ObjectId('667dfa267f51f7dcd7dc24b4'), ObjectId('667dfa267f51f7dcd7dc24b5'), ObjectId('667dfa267f51f7dcd7dc24b6'), ObjectId('667dfa267f51f7dcd7dc24b7'), ObjectId('667dfa267f51f7dcd7dc24b8'), ObjectId('667dfa267f51f7dcd7dc24b9'), ObjectId('667dfa267f51f7dcd7dc24ba'), ObjectId('667dfa267f51f7dcd7dc24bb'), ObjectId('667dfa267f51f7dcd7dc24bc'), ObjectId('667dfa267f51f7dcd7dc24bd'), ObjectId('667dfa267f51f7dcd7dc24be'), ObjectId('667dfa267f51f7dcd7dc24bf'), ObjectId('667dfa267f51f7dcd7dc24c0'), ObjectId('667dfa267f51f7dcd7dc24c1'), ObjectId('667dfa267f51f7dcd7dc24c2'), ObjectId('667dfa267f51f7dcd7dc24c3')], acknowledged=True)"
      ]
     },
     "execution_count": 37,
     "metadata": {},
     "output_type": "execute_result"
    }
   ],
   "source": [
    "# Insere o conteúdo do arquivo json na coleção chamada posts. Cada item do arquivo será um documento.\n",
    "posts.insert_many(file_data, ordered = False, bypass_document_validation = True)"
   ]
  },
  {
   "cell_type": "code",
   "execution_count": 38,
   "metadata": {},
   "outputs": [
    {
     "data": {
      "text/plain": [
       "{'_id': ObjectId('667dfa267f51f7dcd7dc1cf4'),\n",
       " 'status': 'public',\n",
       " 'creationDate': '2017-07-17T20:05:49Z',\n",
       " 'allowComments': True,\n",
       " 'title': 'ligula nec sem duis aliquam',\n",
       " 'description': 'in felis eu sapien cursus vestibulum proin eu mi nulla ac enim in tempor turpis nec euismod scelerisque quam turpis adipiscing lorem vitae mattis nibh ligula nec sem duis aliquam convallis nunc proin at turpis a pede posuere nonummy integer non velit donec diam neque vestibulum eget vulputate ut ultrices vel augue vestibulum ante ipsum primis in faucibus orci luctus et ultrices posuere cubilia curae donec pharetra magna vestibulum aliquet ultrices erat tortor sollicitudin mi sit amet lobortis sapien sapien non mi integer ac neque duis bibendum morbi non',\n",
       " 'tags': 1,\n",
       " 'Category': 'lifestyle',\n",
       " 'filteredPicture': False}"
      ]
     },
     "execution_count": 38,
     "metadata": {},
     "output_type": "execute_result"
    }
   ],
   "source": [
    "posts.find_one()"
   ]
  },
  {
   "cell_type": "code",
   "execution_count": 39,
   "metadata": {},
   "outputs": [],
   "source": [
    "n = posts.estimated_document_count()"
   ]
  },
  {
   "cell_type": "code",
   "execution_count": 40,
   "metadata": {},
   "outputs": [
    {
     "data": {
      "text/plain": [
       "2000"
      ]
     },
     "execution_count": 40,
     "metadata": {},
     "output_type": "execute_result"
    }
   ],
   "source": [
    "n"
   ]
  },
  {
   "cell_type": "code",
   "execution_count": 41,
   "metadata": {},
   "outputs": [],
   "source": [
    "# Agregação para calcular o número de posts em cada categoria\n",
    "\n",
    "posts_cat = posts.aggregate([{\"$group\": {\"_id\": \"$Category\", \"count\": {\"$sum\": 1}}},\n",
    "                             {\"$sort\": {\"_id.Category\": 1, \"count\": -1}}])"
   ]
  },
  {
   "cell_type": "code",
   "execution_count": 42,
   "metadata": {},
   "outputs": [
    {
     "name": "stdout",
     "output_type": "stream",
     "text": [
      "<pymongo.command_cursor.CommandCursor object at 0x12cab2790>\n"
     ]
    }
   ],
   "source": [
    "print(posts_cat)"
   ]
  },
  {
   "cell_type": "code",
   "execution_count": 43,
   "metadata": {},
   "outputs": [],
   "source": [
    "# Converte o resultado da agregação em um dataframe\n",
    "pc_df = pd.DataFrame(list(posts_cat))"
   ]
  },
  {
   "cell_type": "code",
   "execution_count": 44,
   "metadata": {},
   "outputs": [
    {
     "data": {
      "text/html": [
       "<div>\n",
       "<style scoped>\n",
       "    .dataframe tbody tr th:only-of-type {\n",
       "        vertical-align: middle;\n",
       "    }\n",
       "\n",
       "    .dataframe tbody tr th {\n",
       "        vertical-align: top;\n",
       "    }\n",
       "\n",
       "    .dataframe thead th {\n",
       "        text-align: right;\n",
       "    }\n",
       "</style>\n",
       "<table border=\"1\" class=\"dataframe\">\n",
       "  <thead>\n",
       "    <tr style=\"text-align: right;\">\n",
       "      <th></th>\n",
       "      <th>_id</th>\n",
       "      <th>count</th>\n",
       "    </tr>\n",
       "  </thead>\n",
       "  <tbody>\n",
       "    <tr>\n",
       "      <th>0</th>\n",
       "      <td>arts</td>\n",
       "      <td>311</td>\n",
       "    </tr>\n",
       "    <tr>\n",
       "      <th>1</th>\n",
       "      <td>fashion</td>\n",
       "      <td>300</td>\n",
       "    </tr>\n",
       "    <tr>\n",
       "      <th>2</th>\n",
       "      <td>lifestyle</td>\n",
       "      <td>294</td>\n",
       "    </tr>\n",
       "    <tr>\n",
       "      <th>3</th>\n",
       "      <td>movies</td>\n",
       "      <td>289</td>\n",
       "    </tr>\n",
       "    <tr>\n",
       "      <th>4</th>\n",
       "      <td>educational</td>\n",
       "      <td>274</td>\n",
       "    </tr>\n",
       "  </tbody>\n",
       "</table>\n",
       "</div>"
      ],
      "text/plain": [
       "           _id  count\n",
       "0         arts    311\n",
       "1      fashion    300\n",
       "2    lifestyle    294\n",
       "3       movies    289\n",
       "4  educational    274"
      ]
     },
     "execution_count": 44,
     "metadata": {},
     "output_type": "execute_result"
    }
   ],
   "source": [
    "pc_df.head()"
   ]
  },
  {
   "cell_type": "code",
   "execution_count": 45,
   "metadata": {},
   "outputs": [
    {
     "data": {
      "text/plain": [
       "['arts', 'fashion', 'lifestyle', 'movies', 'educational', 'politics', 'sports']"
      ]
     },
     "execution_count": 45,
     "metadata": {},
     "output_type": "execute_result"
    }
   ],
   "source": [
    "list(pc_df['_id'])"
   ]
  },
  {
   "cell_type": "code",
   "execution_count": 46,
   "metadata": {},
   "outputs": [
    {
     "data": {
      "text/plain": [
       "<Axes: ylabel='count'>"
      ]
     },
     "execution_count": 46,
     "metadata": {},
     "output_type": "execute_result"
    },
    {
     "data": {
      "image/png": "[encoded data removed]",
      "text/plain": [
       "<Figure size 640x480 with 1 Axes>"
      ]
     },
     "metadata": {},
     "output_type": "display_data"
    }
   ],
   "source": [
    "pc_df.plot.pie(y = 'count',\n",
    "               labels = pc_df['_id'],\n",
    "               autopct = '%1.1f%%',\n",
    "               startangle = 15, \n",
    "               shadow = True,\n",
    "               legend = False)"
   ]
  },
  {
   "cell_type": "code",
   "execution_count": 47,
   "metadata": {},
   "outputs": [],
   "source": [
    "# Número de posts públicos e privados da categoria politics.\n",
    "\n",
    "pol_sta = posts.aggregate([{\"$match\": {\"Category\": \"politics\"}},\n",
    "                           {\"$group\": {\"_id\": \"$status\", \"count\": {\"$sum\": 1}}}])"
   ]
  },
  {
   "cell_type": "code",
   "execution_count": 48,
   "metadata": {},
   "outputs": [],
   "source": [
    "ps_df = pd.DataFrame(list(pol_sta))"
   ]
  },
  {
   "cell_type": "code",
   "execution_count": 49,
   "metadata": {},
   "outputs": [
    {
     "data": {
      "text/html": [
       "<div>\n",
       "<style scoped>\n",
       "    .dataframe tbody tr th:only-of-type {\n",
       "        vertical-align: middle;\n",
       "    }\n",
       "\n",
       "    .dataframe tbody tr th {\n",
       "        vertical-align: top;\n",
       "    }\n",
       "\n",
       "    .dataframe thead th {\n",
       "        text-align: right;\n",
       "    }\n",
       "</style>\n",
       "<table border=\"1\" class=\"dataframe\">\n",
       "  <thead>\n",
       "    <tr style=\"text-align: right;\">\n",
       "      <th></th>\n",
       "      <th>_id</th>\n",
       "      <th>count</th>\n",
       "    </tr>\n",
       "  </thead>\n",
       "  <tbody>\n",
       "    <tr>\n",
       "      <th>0</th>\n",
       "      <td>public</td>\n",
       "      <td>126</td>\n",
       "    </tr>\n",
       "    <tr>\n",
       "      <th>1</th>\n",
       "      <td>private</td>\n",
       "      <td>148</td>\n",
       "    </tr>\n",
       "  </tbody>\n",
       "</table>\n",
       "</div>"
      ],
      "text/plain": [
       "       _id  count\n",
       "0   public    126\n",
       "1  private    148"
      ]
     },
     "execution_count": 49,
     "metadata": {},
     "output_type": "execute_result"
    }
   ],
   "source": [
    "ps_df"
   ]
  },
  {
   "cell_type": "code",
   "execution_count": 50,
   "metadata": {},
   "outputs": [
    {
     "data": {
      "text/plain": [
       "<Axes: title={'center': 'Número de Posts Públicos e Privados'}, xlabel='_id'>"
      ]
     },
     "execution_count": 50,
     "metadata": {},
     "output_type": "execute_result"
    },
    {
     "data": {
      "image/png": "[encoded data removed]",
      "text/plain": [
       "<Figure size 640x480 with 1 Axes>"
      ]
     },
     "metadata": {},
     "output_type": "display_data"
    }
   ],
   "source": [
    "ps_df.plot.bar(x = '_id',\n",
    "               y = 'count',\n",
    "               title = \"Número de Posts Públicos e Privados\")"
   ]
  },
  {
   "cell_type": "code",
   "execution_count": 51,
   "metadata": {},
   "outputs": [
    {
     "data": {
      "text/plain": [
       "{'_id': ObjectId('667dfa267f51f7dcd7dc1cf4'),\n",
       " 'status': 'public',\n",
       " 'creationDate': '2017-07-17T20:05:49Z',\n",
       " 'allowComments': True,\n",
       " 'title': 'ligula nec sem duis aliquam',\n",
       " 'description': 'in felis eu sapien cursus vestibulum proin eu mi nulla ac enim in tempor turpis nec euismod scelerisque quam turpis adipiscing lorem vitae mattis nibh ligula nec sem duis aliquam convallis nunc proin at turpis a pede posuere nonummy integer non velit donec diam neque vestibulum eget vulputate ut ultrices vel augue vestibulum ante ipsum primis in faucibus orci luctus et ultrices posuere cubilia curae donec pharetra magna vestibulum aliquet ultrices erat tortor sollicitudin mi sit amet lobortis sapien sapien non mi integer ac neque duis bibendum morbi non',\n",
       " 'tags': 1,\n",
       " 'Category': 'lifestyle',\n",
       " 'filteredPicture': False}"
      ]
     },
     "execution_count": 51,
     "metadata": {},
     "output_type": "execute_result"
    }
   ],
   "source": [
    "# Qual ano teve o maior número de posts?\n",
    "\n",
    "posts.find_one()"
   ]
  },
  {
   "cell_type": "code",
   "execution_count": 52,
   "metadata": {},
   "outputs": [],
   "source": [
    "# Update many (cria duas noovas variáveis para cada documento)\n",
    "datalake.posts.update_many({}, {'$set': {\"hour\": 0}});\n",
    "datalake.posts.update_many({}, {'$set': {\"year\": 0}});"
   ]
  },
  {
   "cell_type": "code",
   "execution_count": 53,
   "metadata": {},
   "outputs": [
    {
     "data": {
      "text/plain": [
       "{'_id': ObjectId('667dfa267f51f7dcd7dc1cf4'),\n",
       " 'status': 'public',\n",
       " 'creationDate': '2017-07-17T20:05:49Z',\n",
       " 'allowComments': True,\n",
       " 'title': 'ligula nec sem duis aliquam',\n",
       " 'description': 'in felis eu sapien cursus vestibulum proin eu mi nulla ac enim in tempor turpis nec euismod scelerisque quam turpis adipiscing lorem vitae mattis nibh ligula nec sem duis aliquam convallis nunc proin at turpis a pede posuere nonummy integer non velit donec diam neque vestibulum eget vulputate ut ultrices vel augue vestibulum ante ipsum primis in faucibus orci luctus et ultrices posuere cubilia curae donec pharetra magna vestibulum aliquet ultrices erat tortor sollicitudin mi sit amet lobortis sapien sapien non mi integer ac neque duis bibendum morbi non',\n",
       " 'tags': 1,\n",
       " 'Category': 'lifestyle',\n",
       " 'filteredPicture': False,\n",
       " 'hour': 0,\n",
       " 'year': 0}"
      ]
     },
     "execution_count": 53,
     "metadata": {},
     "output_type": "execute_result"
    }
   ],
   "source": [
    "posts.find_one()"
   ]
  },
  {
   "cell_type": "code",
   "execution_count": 54,
   "metadata": {},
   "outputs": [],
   "source": [
    "for data in posts.find({}):\n",
    "    posts.update_one({\"_id\": data['_id']},\n",
    "                     {'$set': {'hour' : data['creationDate'].split('T')[1].split(':')[0],\n",
    "                               'year' : data['creationDate'].split('T')[0].split('-')[0] }})"
   ]
  },
  {
   "cell_type": "code",
   "execution_count": 55,
   "metadata": {},
   "outputs": [
    {
     "data": {
      "text/plain": [
       "{'_id': ObjectId('667dfa267f51f7dcd7dc1cf4'),\n",
       " 'status': 'public',\n",
       " 'creationDate': '2017-07-17T20:05:49Z',\n",
       " 'allowComments': True,\n",
       " 'title': 'ligula nec sem duis aliquam',\n",
       " 'description': 'in felis eu sapien cursus vestibulum proin eu mi nulla ac enim in tempor turpis nec euismod scelerisque quam turpis adipiscing lorem vitae mattis nibh ligula nec sem duis aliquam convallis nunc proin at turpis a pede posuere nonummy integer non velit donec diam neque vestibulum eget vulputate ut ultrices vel augue vestibulum ante ipsum primis in faucibus orci luctus et ultrices posuere cubilia curae donec pharetra magna vestibulum aliquet ultrices erat tortor sollicitudin mi sit amet lobortis sapien sapien non mi integer ac neque duis bibendum morbi non',\n",
       " 'tags': 1,\n",
       " 'Category': 'lifestyle',\n",
       " 'filteredPicture': False,\n",
       " 'hour': '20',\n",
       " 'year': '2017'}"
      ]
     },
     "execution_count": 55,
     "metadata": {},
     "output_type": "execute_result"
    }
   ],
   "source": [
    "posts.find_one()"
   ]
  },
  {
   "cell_type": "code",
   "execution_count": 56,
   "metadata": {},
   "outputs": [],
   "source": [
    "posts_yr = posts.aggregate([{\"$group\": {\"_id\": \"$year\", \"count\": {\"$sum\": 1}}},\n",
    "                            {\"$sort\": {\"_id.year\": 1, \"count\": 1}}])"
   ]
  },
  {
   "cell_type": "code",
   "execution_count": 57,
   "metadata": {},
   "outputs": [
    {
     "data": {
      "text/html": [
       "<div>\n",
       "<style scoped>\n",
       "    .dataframe tbody tr th:only-of-type {\n",
       "        vertical-align: middle;\n",
       "    }\n",
       "\n",
       "    .dataframe tbody tr th {\n",
       "        vertical-align: top;\n",
       "    }\n",
       "\n",
       "    .dataframe thead th {\n",
       "        text-align: right;\n",
       "    }\n",
       "</style>\n",
       "<table border=\"1\" class=\"dataframe\">\n",
       "  <thead>\n",
       "    <tr style=\"text-align: right;\">\n",
       "      <th></th>\n",
       "      <th>_id</th>\n",
       "      <th>count</th>\n",
       "    </tr>\n",
       "  </thead>\n",
       "  <tbody>\n",
       "    <tr>\n",
       "      <th>0</th>\n",
       "      <td>2015</td>\n",
       "      <td>76</td>\n",
       "    </tr>\n",
       "    <tr>\n",
       "      <th>1</th>\n",
       "      <td>2016</td>\n",
       "      <td>299</td>\n",
       "    </tr>\n",
       "    <tr>\n",
       "      <th>2</th>\n",
       "      <td>2019</td>\n",
       "      <td>303</td>\n",
       "    </tr>\n",
       "    <tr>\n",
       "      <th>3</th>\n",
       "      <td>2017</td>\n",
       "      <td>309</td>\n",
       "    </tr>\n",
       "    <tr>\n",
       "      <th>4</th>\n",
       "      <td>2021</td>\n",
       "      <td>330</td>\n",
       "    </tr>\n",
       "  </tbody>\n",
       "</table>\n",
       "</div>"
      ],
      "text/plain": [
       "    _id  count\n",
       "0  2015     76\n",
       "1  2016    299\n",
       "2  2019    303\n",
       "3  2017    309\n",
       "4  2021    330"
      ]
     },
     "execution_count": 57,
     "metadata": {},
     "output_type": "execute_result"
    }
   ],
   "source": [
    "py_df = pd.DataFrame(list(posts_yr))\n",
    "py_df.head()"
   ]
  },
  {
   "cell_type": "code",
   "execution_count": 58,
   "metadata": {},
   "outputs": [
    {
     "data": {
      "text/plain": [
       "<Axes: title={'center': 'Número de Posts Por Ano'}, xlabel='_id'>"
      ]
     },
     "execution_count": 58,
     "metadata": {},
     "output_type": "execute_result"
    },
    {
     "data": {
      "image/png": "[encoded data removed]",
      "text/plain": [
       "<Figure size 640x480 with 1 Axes>"
      ]
     },
     "metadata": {},
     "output_type": "display_data"
    }
   ],
   "source": [
    "py_df.plot.line(x = '_id',\n",
    "                y = 'count',\n",
    "                title = \"Número de Posts Por Ano\")"
   ]
  },
  {
   "cell_type": "code",
   "execution_count": 59,
   "metadata": {},
   "outputs": [],
   "source": [
    "# Horario com maior numero de posts\n",
    "\n",
    "# Agregação e ordenação\n",
    "posts_hr = posts.aggregate([{\"$group\": {\"_id\": \"$hour\", \"count\": {\"$sum\": 1}}},\n",
    "                            {\"$sort\": {\"_id.hour\": 1, \"count\": -1}}])"
   ]
  },
  {
   "cell_type": "code",
   "execution_count": 60,
   "metadata": {},
   "outputs": [
    {
     "name": "stdout",
     "output_type": "stream",
     "text": [
      "{'_id': '00', 'count': 103}\n",
      "{'_id': '08', 'count': 101}\n",
      "{'_id': '02', 'count': 99}\n"
     ]
    }
   ],
   "source": [
    "for i in range(3):\n",
    "    print(posts_hr.next())"
   ]
  },
  {
   "cell_type": "code",
   "execution_count": 61,
   "metadata": {},
   "outputs": [],
   "source": [
    "# Número de posts em hora cheia (terminada por 00) por categoria.\n",
    "\n",
    "# Filtro, agregação e ordenação\n",
    "cat_00 = posts.aggregate([{\"$match\": {\"hour\": \"00\"}},\n",
    "                          {\"$group\": {\"_id\": \"$Category\", \"count\": {\"$sum\": 1}}},\n",
    "                          {\"$sort\": {\"_id.Category\": 1, \"count\": -1}}])"
   ]
  },
  {
   "cell_type": "code",
   "execution_count": 62,
   "metadata": {},
   "outputs": [],
   "source": [
    "c0_df = pd.DataFrame(list(cat_00))"
   ]
  },
  {
   "cell_type": "code",
   "execution_count": 63,
   "metadata": {},
   "outputs": [
    {
     "data": {
      "text/plain": [
       "<Axes: title={'center': 'Número de Posts em Hora Cheia'}, xlabel='_id'>"
      ]
     },
     "execution_count": 63,
     "metadata": {},
     "output_type": "execute_result"
    },
    {
     "data": {
      "image/png": "[encoded data removed]",
      "text/plain": [
       "<Figure size 640x480 with 1 Axes>"
      ]
     },
     "metadata": {},
     "output_type": "display_data"
    }
   ],
   "source": [
    "c0_df.plot.bar(x = '_id', y = 'count', title = \"Número de Posts em Hora Cheia\")"
   ]
  },
  {
   "cell_type": "code",
   "execution_count": 64,
   "metadata": {},
   "outputs": [],
   "source": [
    "# Número de posts que permitem comentários.\n",
    "\n",
    "# Count\n",
    "com = posts.count_documents({'allowComments':True})"
   ]
  },
  {
   "cell_type": "code",
   "execution_count": 65,
   "metadata": {},
   "outputs": [
    {
     "name": "stdout",
     "output_type": "stream",
     "text": [
      "Número de Posts Que Permitem Comentários: 964\n"
     ]
    }
   ],
   "source": [
    "print(\"Número de Posts Que Permitem Comentários:\", com)"
   ]
  },
  {
   "cell_type": "code",
   "execution_count": 66,
   "metadata": {},
   "outputs": [
    {
     "name": "stdout",
     "output_type": "stream",
     "text": [
      "Número de Posts Que Não Permitem Comentários: 1036\n"
     ]
    }
   ],
   "source": [
    "print(\"Número de Posts Que Não Permitem Comentários:\", n-com)"
   ]
  },
  {
   "cell_type": "code",
   "execution_count": 67,
   "metadata": {},
   "outputs": [
    {
     "data": {
      "image/png": "[encoded data removed]",
      "text/plain": [
       "<Figure size 640x480 with 1 Axes>"
      ]
     },
     "metadata": {},
     "output_type": "display_data"
    }
   ],
   "source": [
    "sns.set_style('darkgrid')\n",
    "\n",
    "x = ['Commented', 'Uncommented']\n",
    "y = [com, n - com]\n",
    "\n",
    "sns.barplot(x=x, y=y, palette='twilight_r')\n",
    "plt.title(\"Número de Posts Com e Sem Comentários\")\n",
    "plt.xlabel(\"Status\")\n",
    "plt.ylabel(\"Número de Posts\")\n",
    "plt.show()"
   ]
  },
  {
   "cell_type": "code",
   "execution_count": 68,
   "metadata": {},
   "outputs": [
    {
     "data": {
      "text/plain": [
       "{'_id': ObjectId('667dfa267f51f7dcd7dc1cf4'),\n",
       " 'status': 'public',\n",
       " 'creationDate': '2017-07-17T20:05:49Z',\n",
       " 'allowComments': True,\n",
       " 'title': 'ligula nec sem duis aliquam',\n",
       " 'description': 'in felis eu sapien cursus vestibulum proin eu mi nulla ac enim in tempor turpis nec euismod scelerisque quam turpis adipiscing lorem vitae mattis nibh ligula nec sem duis aliquam convallis nunc proin at turpis a pede posuere nonummy integer non velit donec diam neque vestibulum eget vulputate ut ultrices vel augue vestibulum ante ipsum primis in faucibus orci luctus et ultrices posuere cubilia curae donec pharetra magna vestibulum aliquet ultrices erat tortor sollicitudin mi sit amet lobortis sapien sapien non mi integer ac neque duis bibendum morbi non',\n",
       " 'tags': 1,\n",
       " 'Category': 'lifestyle',\n",
       " 'filteredPicture': False,\n",
       " 'hour': '20',\n",
       " 'year': '2017'}"
      ]
     },
     "execution_count": 68,
     "metadata": {},
     "output_type": "execute_result"
    }
   ],
   "source": [
    "# Comprimento (número de palavras) do título dos posts\n",
    "\n",
    "posts.find_one()"
   ]
  },
  {
   "cell_type": "code",
   "execution_count": 69,
   "metadata": {},
   "outputs": [],
   "source": [
    "# Cria uma nova coluna\n",
    "datalake.posts.update_many({}, {'$set': {\"length_of_heading\": 0}});"
   ]
  },
  {
   "cell_type": "code",
   "execution_count": 70,
   "metadata": {},
   "outputs": [],
   "source": [
    "# Loop para preencher a nova coluna\n",
    "for data in posts.find({}):\n",
    "    posts.update_one({\"_id\": data['_id']},\n",
    "                     {'$set': {'length_of_heading' : len(data['title'].split(' '))}})"
   ]
  },
  {
   "cell_type": "code",
   "execution_count": 71,
   "metadata": {},
   "outputs": [],
   "source": [
    "# Agrupamento e ordenação\n",
    "len_titles = posts.aggregate([{\"$group\": {\"_id\": \"$length_of_heading\", \"count\": {\"$sum\": 1}}},\n",
    "                              {\"$sort\": {\"_id.length_of_heading\": 1, \"count\": -1}}])"
   ]
  },
  {
   "cell_type": "code",
   "execution_count": 72,
   "metadata": {},
   "outputs": [
    {
     "data": {
      "text/plain": [
       "<pymongo.command_cursor.CommandCursor at 0x12cd5b290>"
      ]
     },
     "execution_count": 72,
     "metadata": {},
     "output_type": "execute_result"
    }
   ],
   "source": [
    "len_titles "
   ]
  },
  {
   "cell_type": "code",
   "execution_count": 73,
   "metadata": {},
   "outputs": [
    {
     "data": {
      "text/html": [
       "<div>\n",
       "<style scoped>\n",
       "    .dataframe tbody tr th:only-of-type {\n",
       "        vertical-align: middle;\n",
       "    }\n",
       "\n",
       "    .dataframe tbody tr th {\n",
       "        vertical-align: top;\n",
       "    }\n",
       "\n",
       "    .dataframe thead th {\n",
       "        text-align: right;\n",
       "    }\n",
       "</style>\n",
       "<table border=\"1\" class=\"dataframe\">\n",
       "  <thead>\n",
       "    <tr style=\"text-align: right;\">\n",
       "      <th></th>\n",
       "      <th>_id</th>\n",
       "      <th>count</th>\n",
       "    </tr>\n",
       "  </thead>\n",
       "  <tbody>\n",
       "    <tr>\n",
       "      <th>0</th>\n",
       "      <td>3</td>\n",
       "      <td>355</td>\n",
       "    </tr>\n",
       "    <tr>\n",
       "      <th>1</th>\n",
       "      <td>4</td>\n",
       "      <td>345</td>\n",
       "    </tr>\n",
       "    <tr>\n",
       "      <th>2</th>\n",
       "      <td>1</td>\n",
       "      <td>343</td>\n",
       "    </tr>\n",
       "    <tr>\n",
       "      <th>3</th>\n",
       "      <td>5</td>\n",
       "      <td>337</td>\n",
       "    </tr>\n",
       "    <tr>\n",
       "      <th>4</th>\n",
       "      <td>6</td>\n",
       "      <td>336</td>\n",
       "    </tr>\n",
       "    <tr>\n",
       "      <th>5</th>\n",
       "      <td>2</td>\n",
       "      <td>284</td>\n",
       "    </tr>\n",
       "  </tbody>\n",
       "</table>\n",
       "</div>"
      ],
      "text/plain": [
       "   _id  count\n",
       "0    3    355\n",
       "1    4    345\n",
       "2    1    343\n",
       "3    5    337\n",
       "4    6    336\n",
       "5    2    284"
      ]
     },
     "execution_count": 73,
     "metadata": {},
     "output_type": "execute_result"
    }
   ],
   "source": [
    "title_df = pd.DataFrame(list(len_titles))\n",
    "title_df.head(10)"
   ]
  },
  {
   "cell_type": "code",
   "execution_count": 74,
   "metadata": {},
   "outputs": [
    {
     "data": {
      "image/png": "[encoded data removed]",
      "text/plain": [
       "<Figure size 640x480 with 1 Axes>"
      ]
     },
     "metadata": {},
     "output_type": "display_data"
    }
   ],
   "source": [
    "ax = sns.lineplot(x = '_id', y = 'count', data = title_df, color = 'green')\n",
    "ax.lines[0].set_linestyle(\"--\")\n",
    "plt.show()"
   ]
  },
  {
   "cell_type": "code",
   "execution_count": 75,
   "metadata": {},
   "outputs": [],
   "source": [
    "# Número de tags por categoria de posts\n",
    "\n",
    "# Agregação\n",
    "tags = posts.aggregate([{\"$group\": {\"_id\": \"$tags\", \"count\": {\"$sum\": 1}}},\n",
    "                        {\"$sort\": {\"_id.tags\": 1, \"count\": -1}}])"
   ]
  },
  {
   "cell_type": "code",
   "execution_count": 76,
   "metadata": {},
   "outputs": [
    {
     "data": {
      "text/plain": [
       "<pymongo.cursor.Cursor at 0x12cd11f90>"
      ]
     },
     "execution_count": 76,
     "metadata": {},
     "output_type": "execute_result"
    }
   ],
   "source": [
    "cat_tags = posts.find({'tags': {'$gt':0}}, {'Category':1})\n",
    "cat_tags"
   ]
  },
  {
   "cell_type": "code",
   "execution_count": 77,
   "metadata": {},
   "outputs": [],
   "source": [
    "# Categorias com posts com maior número de tags, sendo o número de tags maior do que zero\n",
    "cat_tags = posts.aggregate([{\"$match\": {\"tags\": {\"$gt\":0}}},\n",
    "                            {\"$group\": {\"_id\": \"$Category\", \"count\": {\"$sum\": 1}}},\n",
    "                            {\"$sort\": {\"_id.tags\": 1, \"count\": -1}}])"
   ]
  },
  {
   "cell_type": "code",
   "execution_count": 78,
   "metadata": {},
   "outputs": [
    {
     "data": {
      "text/html": [
       "<div>\n",
       "<style scoped>\n",
       "    .dataframe tbody tr th:only-of-type {\n",
       "        vertical-align: middle;\n",
       "    }\n",
       "\n",
       "    .dataframe tbody tr th {\n",
       "        vertical-align: top;\n",
       "    }\n",
       "\n",
       "    .dataframe thead th {\n",
       "        text-align: right;\n",
       "    }\n",
       "</style>\n",
       "<table border=\"1\" class=\"dataframe\">\n",
       "  <thead>\n",
       "    <tr style=\"text-align: right;\">\n",
       "      <th></th>\n",
       "      <th>_id</th>\n",
       "      <th>count</th>\n",
       "    </tr>\n",
       "  </thead>\n",
       "  <tbody>\n",
       "    <tr>\n",
       "      <th>0</th>\n",
       "      <td>arts</td>\n",
       "      <td>276</td>\n",
       "    </tr>\n",
       "    <tr>\n",
       "      <th>1</th>\n",
       "      <td>fashion</td>\n",
       "      <td>276</td>\n",
       "    </tr>\n",
       "    <tr>\n",
       "      <th>2</th>\n",
       "      <td>movies</td>\n",
       "      <td>264</td>\n",
       "    </tr>\n",
       "    <tr>\n",
       "      <th>3</th>\n",
       "      <td>lifestyle</td>\n",
       "      <td>262</td>\n",
       "    </tr>\n",
       "    <tr>\n",
       "      <th>4</th>\n",
       "      <td>politics</td>\n",
       "      <td>258</td>\n",
       "    </tr>\n",
       "    <tr>\n",
       "      <th>5</th>\n",
       "      <td>educational</td>\n",
       "      <td>255</td>\n",
       "    </tr>\n",
       "    <tr>\n",
       "      <th>6</th>\n",
       "      <td>sports</td>\n",
       "      <td>235</td>\n",
       "    </tr>\n",
       "  </tbody>\n",
       "</table>\n",
       "</div>"
      ],
      "text/plain": [
       "           _id  count\n",
       "0         arts    276\n",
       "1      fashion    276\n",
       "2       movies    264\n",
       "3    lifestyle    262\n",
       "4     politics    258\n",
       "5  educational    255\n",
       "6       sports    235"
      ]
     },
     "execution_count": 78,
     "metadata": {},
     "output_type": "execute_result"
    }
   ],
   "source": [
    "ct_df = pd.DataFrame(list(cat_tags))\n",
    "ct_df"
   ]
  },
  {
   "cell_type": "code",
   "execution_count": 79,
   "metadata": {},
   "outputs": [
    {
     "data": {
      "text/plain": [
       "<Axes: xlabel='_id', ylabel='count'>"
      ]
     },
     "execution_count": 79,
     "metadata": {},
     "output_type": "execute_result"
    },
    {
     "data": {
      "image/png": "[encoded data removed]",
      "text/plain": [
       "<Figure size 640x480 with 1 Axes>"
      ]
     },
     "metadata": {},
     "output_type": "display_data"
    }
   ],
   "source": [
    "sns.barplot(x = '_id', y = 'count', data = ct_df, palette = 'twilight_r')"
   ]
  },
  {
   "cell_type": "code",
   "execution_count": 80,
   "metadata": {},
   "outputs": [],
   "source": [
    "# Qual categoria usa mais filtros de fotos/imagens?\n",
    "\n",
    "\n",
    "# Filtro, agregação e ordenação\n",
    "cat_fs = posts.aggregate([{\"$match\": {\"filteredPicture\": True}},\n",
    "                          {\"$group\":{\"_id\": \"$Category\", \"count\": {\"$sum\": 1}}},\n",
    "                          {\"$sort\": {\"_id.tags\": 1, \"count\": -1}}])"
   ]
  },
  {
   "cell_type": "code",
   "execution_count": 81,
   "metadata": {},
   "outputs": [
    {
     "name": "stdout",
     "output_type": "stream",
     "text": [
      "{'_id': 'fashion', 'count': 159}\n",
      "{'_id': 'movies', 'count': 154}\n",
      "{'_id': 'arts', 'count': 146}\n",
      "{'_id': 'lifestyle', 'count': 136}\n",
      "{'_id': 'educational', 'count': 135}\n",
      "{'_id': 'politics', 'count': 131}\n",
      "{'_id': 'sports', 'count': 117}\n"
     ]
    }
   ],
   "source": [
    "for i in range(7):\n",
    "    print(cat_fs.next())"
   ]
  },
  {
   "cell_type": "code",
   "execution_count": 82,
   "metadata": {},
   "outputs": [],
   "source": [
    "# Qual categoria tem posts (descrição) mais longos (com maior número de palavras), acima de 60 caracteres?\n",
    "\n",
    "# Cria a variável\n",
    "datalake.posts.update_many({}, {'$set': {\"length_of_des\": 0}});"
   ]
  },
  {
   "cell_type": "code",
   "execution_count": 83,
   "metadata": {},
   "outputs": [],
   "source": [
    "# Loop para preencher a variável\n",
    "for data in posts.find({}):\n",
    "    posts.update_one({\"_id\": data['_id']}, {'$set': {'length_of_des': len(data['description'].split(' '))}})"
   ]
  },
  {
   "cell_type": "code",
   "execution_count": 84,
   "metadata": {},
   "outputs": [],
   "source": [
    "# Filtro, agregação e ordenação\n",
    "cat_des = posts.aggregate([{\"$match\": {\"length_of_des\": {\"$gte\":60}}},\n",
    "                           {\"$group\":{\"_id\": \"$Category\", \"count\": {\"$sum\": 1}}},\n",
    "                           {\"$sort\": {\"_id.tags\": 1, \"count\": -1}}])"
   ]
  },
  {
   "cell_type": "code",
   "execution_count": 85,
   "metadata": {},
   "outputs": [
    {
     "name": "stdout",
     "output_type": "stream",
     "text": [
      "{'_id': 'arts', 'count': 178}\n",
      "{'_id': 'fashion', 'count': 161}\n",
      "{'_id': 'movies', 'count': 159}\n",
      "{'_id': 'educational', 'count': 156}\n",
      "{'_id': 'lifestyle', 'count': 156}\n",
      "{'_id': 'politics', 'count': 146}\n",
      "{'_id': 'sports', 'count': 130}\n"
     ]
    }
   ],
   "source": [
    "for i in range(7):\n",
    "    print(cat_des.next())"
   ]
  },
  {
   "cell_type": "code",
   "execution_count": 86,
   "metadata": {},
   "outputs": [],
   "source": [
    "# O número de posts (descrição) varia de acordo com a hora do dia? Aumenta ou diminui?\n",
    "\n",
    "# Agregação e ordenação por hora e categoria\n",
    "posts_hr = posts.aggregate([{\"$group\": {\"_id\": [\"$hour\", \"$Category\"], \"count\": {\"$sum\": 1}}},\n",
    "                            {\"$sort\": {\"_id.hour\": 1, \"count\": -1}}])"
   ]
  },
  {
   "cell_type": "code",
   "execution_count": 87,
   "metadata": {},
   "outputs": [
    {
     "data": {
      "text/html": [
       "<div>\n",
       "<style scoped>\n",
       "    .dataframe tbody tr th:only-of-type {\n",
       "        vertical-align: middle;\n",
       "    }\n",
       "\n",
       "    .dataframe tbody tr th {\n",
       "        vertical-align: top;\n",
       "    }\n",
       "\n",
       "    .dataframe thead th {\n",
       "        text-align: right;\n",
       "    }\n",
       "</style>\n",
       "<table border=\"1\" class=\"dataframe\">\n",
       "  <thead>\n",
       "    <tr style=\"text-align: right;\">\n",
       "      <th></th>\n",
       "      <th>_id</th>\n",
       "      <th>count</th>\n",
       "    </tr>\n",
       "  </thead>\n",
       "  <tbody>\n",
       "    <tr>\n",
       "      <th>0</th>\n",
       "      <td>[11, arts]</td>\n",
       "      <td>23</td>\n",
       "    </tr>\n",
       "    <tr>\n",
       "      <th>1</th>\n",
       "      <td>[08, politics]</td>\n",
       "      <td>21</td>\n",
       "    </tr>\n",
       "    <tr>\n",
       "      <th>2</th>\n",
       "      <td>[16, lifestyle]</td>\n",
       "      <td>20</td>\n",
       "    </tr>\n",
       "    <tr>\n",
       "      <th>3</th>\n",
       "      <td>[11, educational]</td>\n",
       "      <td>20</td>\n",
       "    </tr>\n",
       "    <tr>\n",
       "      <th>4</th>\n",
       "      <td>[02, lifestyle]</td>\n",
       "      <td>19</td>\n",
       "    </tr>\n",
       "    <tr>\n",
       "      <th>...</th>\n",
       "      <td>...</td>\n",
       "      <td>...</td>\n",
       "    </tr>\n",
       "    <tr>\n",
       "      <th>163</th>\n",
       "      <td>[06, sports]</td>\n",
       "      <td>5</td>\n",
       "    </tr>\n",
       "    <tr>\n",
       "      <th>164</th>\n",
       "      <td>[22, politics]</td>\n",
       "      <td>5</td>\n",
       "    </tr>\n",
       "    <tr>\n",
       "      <th>165</th>\n",
       "      <td>[13, sports]</td>\n",
       "      <td>5</td>\n",
       "    </tr>\n",
       "    <tr>\n",
       "      <th>166</th>\n",
       "      <td>[11, lifestyle]</td>\n",
       "      <td>4</td>\n",
       "    </tr>\n",
       "    <tr>\n",
       "      <th>167</th>\n",
       "      <td>[12, politics]</td>\n",
       "      <td>3</td>\n",
       "    </tr>\n",
       "  </tbody>\n",
       "</table>\n",
       "<p>168 rows × 2 columns</p>\n",
       "</div>"
      ],
      "text/plain": [
       "                   _id  count\n",
       "0           [11, arts]     23\n",
       "1       [08, politics]     21\n",
       "2      [16, lifestyle]     20\n",
       "3    [11, educational]     20\n",
       "4      [02, lifestyle]     19\n",
       "..                 ...    ...\n",
       "163       [06, sports]      5\n",
       "164     [22, politics]      5\n",
       "165       [13, sports]      5\n",
       "166    [11, lifestyle]      4\n",
       "167     [12, politics]      3\n",
       "\n",
       "[168 rows x 2 columns]"
      ]
     },
     "execution_count": 87,
     "metadata": {},
     "output_type": "execute_result"
    }
   ],
   "source": [
    "postshr_df = pd.DataFrame(posts_hr)\n",
    "postshr_df"
   ]
  },
  {
   "cell_type": "code",
   "execution_count": 88,
   "metadata": {},
   "outputs": [
    {
     "data": {
      "text/html": [
       "<div>\n",
       "<style scoped>\n",
       "    .dataframe tbody tr th:only-of-type {\n",
       "        vertical-align: middle;\n",
       "    }\n",
       "\n",
       "    .dataframe tbody tr th {\n",
       "        vertical-align: top;\n",
       "    }\n",
       "\n",
       "    .dataframe thead th {\n",
       "        text-align: right;\n",
       "    }\n",
       "</style>\n",
       "<table border=\"1\" class=\"dataframe\">\n",
       "  <thead>\n",
       "    <tr style=\"text-align: right;\">\n",
       "      <th></th>\n",
       "      <th>hour</th>\n",
       "      <th>category</th>\n",
       "    </tr>\n",
       "  </thead>\n",
       "  <tbody>\n",
       "    <tr>\n",
       "      <th>0</th>\n",
       "      <td>11</td>\n",
       "      <td>arts</td>\n",
       "    </tr>\n",
       "    <tr>\n",
       "      <th>1</th>\n",
       "      <td>08</td>\n",
       "      <td>politics</td>\n",
       "    </tr>\n",
       "    <tr>\n",
       "      <th>2</th>\n",
       "      <td>16</td>\n",
       "      <td>lifestyle</td>\n",
       "    </tr>\n",
       "    <tr>\n",
       "      <th>3</th>\n",
       "      <td>11</td>\n",
       "      <td>educational</td>\n",
       "    </tr>\n",
       "    <tr>\n",
       "      <th>4</th>\n",
       "      <td>02</td>\n",
       "      <td>lifestyle</td>\n",
       "    </tr>\n",
       "    <tr>\n",
       "      <th>...</th>\n",
       "      <td>...</td>\n",
       "      <td>...</td>\n",
       "    </tr>\n",
       "    <tr>\n",
       "      <th>163</th>\n",
       "      <td>06</td>\n",
       "      <td>sports</td>\n",
       "    </tr>\n",
       "    <tr>\n",
       "      <th>164</th>\n",
       "      <td>22</td>\n",
       "      <td>politics</td>\n",
       "    </tr>\n",
       "    <tr>\n",
       "      <th>165</th>\n",
       "      <td>13</td>\n",
       "      <td>sports</td>\n",
       "    </tr>\n",
       "    <tr>\n",
       "      <th>166</th>\n",
       "      <td>11</td>\n",
       "      <td>lifestyle</td>\n",
       "    </tr>\n",
       "    <tr>\n",
       "      <th>167</th>\n",
       "      <td>12</td>\n",
       "      <td>politics</td>\n",
       "    </tr>\n",
       "  </tbody>\n",
       "</table>\n",
       "<p>168 rows × 2 columns</p>\n",
       "</div>"
      ],
      "text/plain": [
       "    hour     category\n",
       "0     11         arts\n",
       "1     08     politics\n",
       "2     16    lifestyle\n",
       "3     11  educational\n",
       "4     02    lifestyle\n",
       "..   ...          ...\n",
       "163   06       sports\n",
       "164   22     politics\n",
       "165   13       sports\n",
       "166   11    lifestyle\n",
       "167   12     politics\n",
       "\n",
       "[168 rows x 2 columns]"
      ]
     },
     "execution_count": 88,
     "metadata": {},
     "output_type": "execute_result"
    }
   ],
   "source": [
    "# Split\n",
    "split_df = pd.DataFrame(postshr_df ['_id'].to_list(), columns = ['hour', 'category'])\n",
    "split_df"
   ]
  },
  {
   "cell_type": "code",
   "execution_count": 89,
   "metadata": {},
   "outputs": [
    {
     "data": {
      "text/html": [
       "<div>\n",
       "<style scoped>\n",
       "    .dataframe tbody tr th:only-of-type {\n",
       "        vertical-align: middle;\n",
       "    }\n",
       "\n",
       "    .dataframe tbody tr th {\n",
       "        vertical-align: top;\n",
       "    }\n",
       "\n",
       "    .dataframe thead th {\n",
       "        text-align: right;\n",
       "    }\n",
       "</style>\n",
       "<table border=\"1\" class=\"dataframe\">\n",
       "  <thead>\n",
       "    <tr style=\"text-align: right;\">\n",
       "      <th></th>\n",
       "      <th>hour</th>\n",
       "      <th>category</th>\n",
       "      <th>count</th>\n",
       "    </tr>\n",
       "  </thead>\n",
       "  <tbody>\n",
       "    <tr>\n",
       "      <th>0</th>\n",
       "      <td>11</td>\n",
       "      <td>arts</td>\n",
       "      <td>23</td>\n",
       "    </tr>\n",
       "    <tr>\n",
       "      <th>1</th>\n",
       "      <td>08</td>\n",
       "      <td>politics</td>\n",
       "      <td>21</td>\n",
       "    </tr>\n",
       "    <tr>\n",
       "      <th>2</th>\n",
       "      <td>16</td>\n",
       "      <td>lifestyle</td>\n",
       "      <td>20</td>\n",
       "    </tr>\n",
       "    <tr>\n",
       "      <th>3</th>\n",
       "      <td>11</td>\n",
       "      <td>educational</td>\n",
       "      <td>20</td>\n",
       "    </tr>\n",
       "    <tr>\n",
       "      <th>4</th>\n",
       "      <td>02</td>\n",
       "      <td>lifestyle</td>\n",
       "      <td>19</td>\n",
       "    </tr>\n",
       "    <tr>\n",
       "      <th>...</th>\n",
       "      <td>...</td>\n",
       "      <td>...</td>\n",
       "      <td>...</td>\n",
       "    </tr>\n",
       "    <tr>\n",
       "      <th>163</th>\n",
       "      <td>06</td>\n",
       "      <td>sports</td>\n",
       "      <td>5</td>\n",
       "    </tr>\n",
       "    <tr>\n",
       "      <th>164</th>\n",
       "      <td>22</td>\n",
       "      <td>politics</td>\n",
       "      <td>5</td>\n",
       "    </tr>\n",
       "    <tr>\n",
       "      <th>165</th>\n",
       "      <td>13</td>\n",
       "      <td>sports</td>\n",
       "      <td>5</td>\n",
       "    </tr>\n",
       "    <tr>\n",
       "      <th>166</th>\n",
       "      <td>11</td>\n",
       "      <td>lifestyle</td>\n",
       "      <td>4</td>\n",
       "    </tr>\n",
       "    <tr>\n",
       "      <th>167</th>\n",
       "      <td>12</td>\n",
       "      <td>politics</td>\n",
       "      <td>3</td>\n",
       "    </tr>\n",
       "  </tbody>\n",
       "</table>\n",
       "<p>168 rows × 3 columns</p>\n",
       "</div>"
      ],
      "text/plain": [
       "    hour     category  count\n",
       "0     11         arts     23\n",
       "1     08     politics     21\n",
       "2     16    lifestyle     20\n",
       "3     11  educational     20\n",
       "4     02    lifestyle     19\n",
       "..   ...          ...    ...\n",
       "163   06       sports      5\n",
       "164   22     politics      5\n",
       "165   13       sports      5\n",
       "166   11    lifestyle      4\n",
       "167   12     politics      3\n",
       "\n",
       "[168 rows x 3 columns]"
      ]
     },
     "execution_count": 89,
     "metadata": {},
     "output_type": "execute_result"
    }
   ],
   "source": [
    "df = pd.concat([split_df, postshr_df['count']], axis = 1)\n",
    "df"
   ]
  },
  {
   "cell_type": "code",
   "execution_count": 90,
   "metadata": {},
   "outputs": [
    {
     "data": {
      "text/html": [
       "<div>\n",
       "<style scoped>\n",
       "    .dataframe tbody tr th:only-of-type {\n",
       "        vertical-align: middle;\n",
       "    }\n",
       "\n",
       "    .dataframe tbody tr th {\n",
       "        vertical-align: top;\n",
       "    }\n",
       "\n",
       "    .dataframe thead th {\n",
       "        text-align: right;\n",
       "    }\n",
       "</style>\n",
       "<table border=\"1\" class=\"dataframe\">\n",
       "  <thead>\n",
       "    <tr style=\"text-align: right;\">\n",
       "      <th></th>\n",
       "      <th>hour</th>\n",
       "      <th>category</th>\n",
       "      <th>count</th>\n",
       "    </tr>\n",
       "  </thead>\n",
       "  <tbody>\n",
       "    <tr>\n",
       "      <th>0</th>\n",
       "      <td>11</td>\n",
       "      <td>arts</td>\n",
       "      <td>23</td>\n",
       "    </tr>\n",
       "    <tr>\n",
       "      <th>1</th>\n",
       "      <td>08</td>\n",
       "      <td>politics</td>\n",
       "      <td>21</td>\n",
       "    </tr>\n",
       "    <tr>\n",
       "      <th>2</th>\n",
       "      <td>16</td>\n",
       "      <td>lifestyle</td>\n",
       "      <td>20</td>\n",
       "    </tr>\n",
       "    <tr>\n",
       "      <th>3</th>\n",
       "      <td>11</td>\n",
       "      <td>educational</td>\n",
       "      <td>20</td>\n",
       "    </tr>\n",
       "    <tr>\n",
       "      <th>4</th>\n",
       "      <td>02</td>\n",
       "      <td>lifestyle</td>\n",
       "      <td>19</td>\n",
       "    </tr>\n",
       "    <tr>\n",
       "      <th>5</th>\n",
       "      <td>10</td>\n",
       "      <td>fashion</td>\n",
       "      <td>19</td>\n",
       "    </tr>\n",
       "    <tr>\n",
       "      <th>6</th>\n",
       "      <td>05</td>\n",
       "      <td>arts</td>\n",
       "      <td>19</td>\n",
       "    </tr>\n",
       "    <tr>\n",
       "      <th>7</th>\n",
       "      <td>00</td>\n",
       "      <td>lifestyle</td>\n",
       "      <td>19</td>\n",
       "    </tr>\n",
       "    <tr>\n",
       "      <th>8</th>\n",
       "      <td>13</td>\n",
       "      <td>fashion</td>\n",
       "      <td>18</td>\n",
       "    </tr>\n",
       "    <tr>\n",
       "      <th>9</th>\n",
       "      <td>08</td>\n",
       "      <td>movies</td>\n",
       "      <td>18</td>\n",
       "    </tr>\n",
       "  </tbody>\n",
       "</table>\n",
       "</div>"
      ],
      "text/plain": [
       "  hour     category  count\n",
       "0   11         arts     23\n",
       "1   08     politics     21\n",
       "2   16    lifestyle     20\n",
       "3   11  educational     20\n",
       "4   02    lifestyle     19\n",
       "5   10      fashion     19\n",
       "6   05         arts     19\n",
       "7   00    lifestyle     19\n",
       "8   13      fashion     18\n",
       "9   08       movies     18"
      ]
     },
     "execution_count": 90,
     "metadata": {},
     "output_type": "execute_result"
    }
   ],
   "source": [
    "df.head(10)"
   ]
  },
  {
   "cell_type": "code",
   "execution_count": 91,
   "metadata": {},
   "outputs": [
    {
     "data": {
      "image/png": "[encoded data removed]",
      "text/plain": [
       "<Figure size 640x480 with 1 Axes>"
      ]
     },
     "metadata": {},
     "output_type": "display_data"
    }
   ],
   "source": [
    "fig, ax = plt.subplots()\n",
    "for key, grp in df.groupby(['category']):\n",
    "    ax = grp.plot(ax = ax, kind = 'line', x = 'hour', y = 'count', label = key)\n",
    "\n",
    "plt.legend(loc = 'best')\n",
    "plt.show()"
   ]
  }
 ],
 "metadata": {
  "kernelspec": {
   "display_name": "base",
   "language": "python",
   "name": "python3"
  },
  "language_info": {
   "codemirror_mode": {
    "name": "ipython",
    "version": 3
   },
   "file_extension": ".py",
   "mimetype": "text/x-python",
   "name": "python",
   "nbconvert_exporter": "python",
   "pygments_lexer": "ipython3",
   "version": "3.11.7"
  }
 },
 "nbformat": 4,
 "nbformat_minor": 2
}
